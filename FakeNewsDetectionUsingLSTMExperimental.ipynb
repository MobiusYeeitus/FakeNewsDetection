{
  "cells": [
    {
      "cell_type": "markdown",
      "metadata": {},
      "source": [
        "create separate models for title prediction and/or text prediction and divide the dataset into title datasets and text datasets. for that need to redo clean_csv"
      ]
    },
    {
      "cell_type": "markdown",
      "metadata": {
        "id": "L6aCV0Z35q7F"
      },
      "source": [
        "Importing primary dependencies for data fetch and cleanup"
      ]
    },
    {
      "cell_type": "code",
      "execution_count": 3,
      "metadata": {
        "id": "xRjajrhYKiBa"
      },
      "outputs": [],
      "source": [
        "import pandas as pd\n",
        "import numpy as np\n",
        "import re\n",
        "\n",
        "from pandas import read_csv"
      ]
    },
    {
      "cell_type": "markdown",
      "metadata": {
        "id": "Oq-FillisipV"
      },
      "source": [
        "Various constants and data fetch"
      ]
    },
    {
      "cell_type": "code",
      "execution_count": 6,
      "metadata": {
        "id": "i2hohf4zZVXT"
      },
      "outputs": [],
      "source": [
        "max_features=10240\n",
        "max_len=2048\n",
        "test_prop=0.3\n",
        "epoch_count=100\n",
        "batch_size=512"
      ]
    },
    {
      "cell_type": "code",
      "execution_count": 72,
      "metadata": {
        "id": "X7QipxLouxkb"
      },
      "outputs": [],
      "source": [
        "fake=read_csv('https://raw.githubusercontent.com/MobiusYeeitus/FakeNewsDetection/master/datasets/set1/fake.csv')\n",
        "real=read_csv('https://raw.githubusercontent.com/MobiusYeeitus/FakeNewsDetection/master/datasets/set1/true.csv')\n",
        "data2=read_csv('https://raw.githubusercontent.com/MobiusYeeitus/FakeNewsDetection/master/datasets/cleaned/ds2.csv')"
      ]
    },
    {
      "cell_type": "code",
      "execution_count": 73,
      "metadata": {
        "colab": {
          "base_uri": "https://localhost:8080/",
          "height": 175
        },
        "id": "I5h7OH9QaqG-",
        "outputId": "395d33af-d411-43ef-c6c0-daab8f93dc73"
      },
      "outputs": [
        {
          "data": {
            "text/html": [
              "<div>\n",
              "<style scoped>\n",
              "    .dataframe tbody tr th:only-of-type {\n",
              "        vertical-align: middle;\n",
              "    }\n",
              "\n",
              "    .dataframe tbody tr th {\n",
              "        vertical-align: top;\n",
              "    }\n",
              "\n",
              "    .dataframe thead th {\n",
              "        text-align: right;\n",
              "    }\n",
              "</style>\n",
              "<table border=\"1\" class=\"dataframe\">\n",
              "  <thead>\n",
              "    <tr style=\"text-align: right;\">\n",
              "      <th></th>\n",
              "      <th>title</th>\n",
              "      <th>text</th>\n",
              "      <th>subject</th>\n",
              "      <th>date</th>\n",
              "    </tr>\n",
              "  </thead>\n",
              "  <tbody>\n",
              "    <tr>\n",
              "      <th>23477</th>\n",
              "      <td>JUSTICE? Yahoo Settles E-mail Privacy Class-ac...</td>\n",
              "      <td>21st Century Wire says It s a familiar theme. ...</td>\n",
              "      <td>Middle-east</td>\n",
              "      <td>January 16, 2016</td>\n",
              "    </tr>\n",
              "    <tr>\n",
              "      <th>23478</th>\n",
              "      <td>Sunnistan: US and Allied ‘Safe Zone’ Plan to T...</td>\n",
              "      <td>Patrick Henningsen  21st Century WireRemember ...</td>\n",
              "      <td>Middle-east</td>\n",
              "      <td>January 15, 2016</td>\n",
              "    </tr>\n",
              "    <tr>\n",
              "      <th>23479</th>\n",
              "      <td>How to Blow $700 Million: Al Jazeera America F...</td>\n",
              "      <td>21st Century Wire says Al Jazeera America will...</td>\n",
              "      <td>Middle-east</td>\n",
              "      <td>January 14, 2016</td>\n",
              "    </tr>\n",
              "    <tr>\n",
              "      <th>23480</th>\n",
              "      <td>10 U.S. Navy Sailors Held by Iranian Military ...</td>\n",
              "      <td>21st Century Wire says As 21WIRE predicted in ...</td>\n",
              "      <td>Middle-east</td>\n",
              "      <td>January 12, 2016</td>\n",
              "    </tr>\n",
              "  </tbody>\n",
              "</table>\n",
              "</div>"
            ],
            "text/plain": [
              "                                                   title  \\\n",
              "23477  JUSTICE? Yahoo Settles E-mail Privacy Class-ac...   \n",
              "23478  Sunnistan: US and Allied ‘Safe Zone’ Plan to T...   \n",
              "23479  How to Blow $700 Million: Al Jazeera America F...   \n",
              "23480  10 U.S. Navy Sailors Held by Iranian Military ...   \n",
              "\n",
              "                                                    text      subject  \\\n",
              "23477  21st Century Wire says It s a familiar theme. ...  Middle-east   \n",
              "23478  Patrick Henningsen  21st Century WireRemember ...  Middle-east   \n",
              "23479  21st Century Wire says Al Jazeera America will...  Middle-east   \n",
              "23480  21st Century Wire says As 21WIRE predicted in ...  Middle-east   \n",
              "\n",
              "                   date  \n",
              "23477  January 16, 2016  \n",
              "23478  January 15, 2016  \n",
              "23479  January 14, 2016  \n",
              "23480  January 12, 2016  "
            ]
          },
          "execution_count": 73,
          "metadata": {},
          "output_type": "execute_result"
        }
      ],
      "source": [
        "fake.tail(4)"
      ]
    },
    {
      "cell_type": "code",
      "execution_count": 74,
      "metadata": {
        "colab": {
          "base_uri": "https://localhost:8080/",
          "height": 175
        },
        "id": "4b-rYhVAwn1o",
        "outputId": "e704bf3e-6d2a-49c7-8d94-29a8b1cd5dfc"
      },
      "outputs": [
        {
          "data": {
            "text/html": [
              "<div>\n",
              "<style scoped>\n",
              "    .dataframe tbody tr th:only-of-type {\n",
              "        vertical-align: middle;\n",
              "    }\n",
              "\n",
              "    .dataframe tbody tr th {\n",
              "        vertical-align: top;\n",
              "    }\n",
              "\n",
              "    .dataframe thead th {\n",
              "        text-align: right;\n",
              "    }\n",
              "</style>\n",
              "<table border=\"1\" class=\"dataframe\">\n",
              "  <thead>\n",
              "    <tr style=\"text-align: right;\">\n",
              "      <th></th>\n",
              "      <th>title</th>\n",
              "      <th>text</th>\n",
              "      <th>subject</th>\n",
              "      <th>date</th>\n",
              "    </tr>\n",
              "  </thead>\n",
              "  <tbody>\n",
              "    <tr>\n",
              "      <th>21413</th>\n",
              "      <td>LexisNexis withdrew two products from Chinese ...</td>\n",
              "      <td>LONDON (Reuters) - LexisNexis, a provider of l...</td>\n",
              "      <td>worldnews</td>\n",
              "      <td>August 22, 2017</td>\n",
              "    </tr>\n",
              "    <tr>\n",
              "      <th>21414</th>\n",
              "      <td>Minsk cultural hub becomes haven from authorities</td>\n",
              "      <td>MINSK (Reuters) - In the shadow of disused Sov...</td>\n",
              "      <td>worldnews</td>\n",
              "      <td>August 22, 2017</td>\n",
              "    </tr>\n",
              "    <tr>\n",
              "      <th>21415</th>\n",
              "      <td>Vatican upbeat on possibility of Pope Francis ...</td>\n",
              "      <td>MOSCOW (Reuters) - Vatican Secretary of State ...</td>\n",
              "      <td>worldnews</td>\n",
              "      <td>August 22, 2017</td>\n",
              "    </tr>\n",
              "    <tr>\n",
              "      <th>21416</th>\n",
              "      <td>Indonesia to buy $1.14 billion worth of Russia...</td>\n",
              "      <td>JAKARTA (Reuters) - Indonesia will buy 11 Sukh...</td>\n",
              "      <td>worldnews</td>\n",
              "      <td>August 22, 2017</td>\n",
              "    </tr>\n",
              "  </tbody>\n",
              "</table>\n",
              "</div>"
            ],
            "text/plain": [
              "                                                   title  \\\n",
              "21413  LexisNexis withdrew two products from Chinese ...   \n",
              "21414  Minsk cultural hub becomes haven from authorities   \n",
              "21415  Vatican upbeat on possibility of Pope Francis ...   \n",
              "21416  Indonesia to buy $1.14 billion worth of Russia...   \n",
              "\n",
              "                                                    text    subject  \\\n",
              "21413  LONDON (Reuters) - LexisNexis, a provider of l...  worldnews   \n",
              "21414  MINSK (Reuters) - In the shadow of disused Sov...  worldnews   \n",
              "21415  MOSCOW (Reuters) - Vatican Secretary of State ...  worldnews   \n",
              "21416  JAKARTA (Reuters) - Indonesia will buy 11 Sukh...  worldnews   \n",
              "\n",
              "                   date  \n",
              "21413  August 22, 2017   \n",
              "21414  August 22, 2017   \n",
              "21415  August 22, 2017   \n",
              "21416  August 22, 2017   "
            ]
          },
          "execution_count": 74,
          "metadata": {},
          "output_type": "execute_result"
        }
      ],
      "source": [
        "real.tail(4)"
      ]
    },
    {
      "cell_type": "markdown",
      "metadata": {
        "id": "ISnhJyPWsMpr"
      },
      "source": [
        "Compressed every cleanup job into the *clean_csv* function"
      ]
    },
    {
      "cell_type": "code",
      "execution_count": 176,
      "metadata": {},
      "outputs": [],
      "source": [
        "\n",
        "import nltk\n",
        "from nltk.corpus import stopwords\n",
        "from nltk.stem.porter import PorterStemmer\n",
        "stem=PorterStemmer()\n",
        "\n",
        "from gensim.parsing.preprocessing import remove_stopwords\n",
        "pd.options.mode.chained_assignment = None"
      ]
    },
    {
      "cell_type": "code",
      "execution_count": 90,
      "metadata": {},
      "outputs": [
        {
          "name": "stdout",
          "output_type": "stream",
          "text": [
            "['i', 'me', 'my', 'myself', 'we', 'our', 'ours', 'ourselves', 'you', \"you're\", \"you've\", \"you'll\", \"you'd\", 'your', 'yours', 'yourself', 'yourselves', 'he', 'him', 'his', 'himself', 'she', \"she's\", 'her', 'hers', 'herself', 'it', \"it's\", 'its', 'itself', 'they', 'them', 'their', 'theirs', 'themselves', 'what', 'which', 'who', 'whom', 'this', 'that', \"that'll\", 'these', 'those', 'am', 'is', 'are', 'was', 'were', 'be', 'been', 'being', 'have', 'has', 'had', 'having', 'do', 'does', 'did', 'doing', 'a', 'an', 'the', 'and', 'but', 'if', 'or', 'because', 'as', 'until', 'while', 'of', 'at', 'by', 'for', 'with', 'about', 'against', 'between', 'into', 'through', 'during', 'before', 'after', 'above', 'below', 'to', 'from', 'up', 'down', 'in', 'out', 'on', 'off', 'over', 'under', 'again', 'further', 'then', 'once', 'here', 'there', 'when', 'where', 'why', 'how', 'all', 'any', 'both', 'each', 'few', 'more', 'most', 'other', 'some', 'such', 'no', 'nor', 'not', 'only', 'own', 'same', 'so', 'than', 'too', 'very', 's', 't', 'can', 'will', 'just', 'don', \"don't\", 'should', \"should've\", 'now', 'd', 'll', 'm', 'o', 're', 've', 'y', 'ain', 'aren', \"aren't\", 'couldn', \"couldn't\", 'didn', \"didn't\", 'doesn', \"doesn't\", 'hadn', \"hadn't\", 'hasn', \"hasn't\", 'haven', \"haven't\", 'isn', \"isn't\", 'ma', 'mightn', \"mightn't\", 'mustn', \"mustn't\", 'needn', \"needn't\", 'shan', \"shan't\", 'shouldn', \"shouldn't\", 'wasn', \"wasn't\", 'weren', \"weren't\", 'won', \"won't\", 'wouldn', \"wouldn't\"]\n"
          ]
        }
      ],
      "source": [
        "print(stopwords.words('english'))"
      ]
    },
    {
      "cell_type": "markdown",
      "metadata": {},
      "source": [
        "Need to markdown sequence and omit stopwords using nltk"
      ]
    },
    {
      "cell_type": "code",
      "execution_count": 205,
      "metadata": {
        "id": "DAmsPhuDcxXr"
      },
      "outputs": [],
      "source": [
        "def clean_string(string): #function to clean a string | to be used in clean_csv\n",
        "    blank=''\n",
        "    string=string.lower() #convert string to lowercase\n",
        "    string=re.sub('\\n|\\r|\\t','',string) #cleaning of whitespaces\n",
        "    string=re.sub(r'[^\\w\\s]+','',string) #cleaning of symbols\n",
        "    remove_stopwords(string)\n",
        "    return string\n",
        "def clean_csv(df,identity): #cleaning the CSV file\n",
        "    print('Cleaning CSV.')\n",
        "    df=df.dropna() #drop all tuples with empty attributes\n",
        "    length=[]\n",
        "    [length.append(len(str(text))) for text in df[\"text\"]] #calculate length of an article\n",
        "    df['length'] = length #saves the length of the artivle in a new column\n",
        "    df = df.drop(df['text'][df['length'] < 120].index, axis = 0) #drop all tuples with less than 120 letters\n",
        "    df['text']=df['title']+\" \"+df['text'] #append text to title\n",
        "    vfunc=np.vectorize(clean_string) #vectorize th clean_string function for use in pandas df\n",
        "    df['text']=vfunc(df['text']) #apply the vectorized function to further clean the data\n",
        "    df['identity']=identity #add the identity (T/F) or (0/1) in a new attribute to the data\n",
        "    df.reset_index() #reset all indexes of the dataset\n",
        "    for x in range (len(df)):\n",
        "        df['text'].iloc[x]=remove_stopwords(df['text'].iloc[x])\n",
        "    print('Cleaning completed.')\n",
        "    return df\n",
        "def stemming(string): #not using stemming, reduces accuracy with nouns\n",
        "    review = re.sub('[^a-zA-Z]',' ',string)\n",
        "    review = review.lower()\n",
        "    review = review.split()\n",
        "    review = [stem.stem(word) for word in review if not word in stopwords.words('english')]\n",
        "    review = ' '.join(review)\n",
        "    return review\n"
      ]
    },
    {
      "cell_type": "code",
      "execution_count": 209,
      "metadata": {},
      "outputs": [],
      "source": [
        "def clean_csv2(df): #cleaning the CSV file\n",
        "    print('Cleaning CSV.')\n",
        "    df=df.dropna() #drop all tuples with empty attributes\n",
        "    length=[]\n",
        "    [length.append(len(str(text))) for text in df[\"text\"]] #calculate length of an article\n",
        "    df['length'] = length #saves the length of the artivle in a new column\n",
        "    df = df.drop(df['text'][df['length'] < 120].index, axis = 0) #drop all tuples with less than 120 letters\n",
        "    #df['text']=df['title']+\" \"+df['text'] #append text to title\n",
        "    vfunc=np.vectorize(clean_string) #vectorize th clean_string function for use in pandas df\n",
        "    df['text']=vfunc(df['text']) #apply the vectorized function to further clean the data\n",
        "    df.reset_index() #reset all indexes of the dataset\n",
        "    for x in range (len(df)):\n",
        "        df['text'].iloc[x]=remove_stopwords(df['text'].iloc[x])\n",
        "    print('Cleaning completed.')\n",
        "    return df"
      ]
    },
    {
      "cell_type": "code",
      "execution_count": 211,
      "metadata": {},
      "outputs": [],
      "source": [
        "data21=data2.iloc[:int(len(fake)/2),:]\n",
        "data22=data2.iloc[int(len(fake)/2):,:]"
      ]
    },
    {
      "cell_type": "code",
      "execution_count": 213,
      "metadata": {},
      "outputs": [
        {
          "name": "stdout",
          "output_type": "stream",
          "text": [
            "Cleaning CSV.\n"
          ]
        },
        {
          "ename": "MemoryError",
          "evalue": "Unable to allocate 4.65 GiB for an array with shape (11168,) and data type <U111784",
          "output_type": "error",
          "traceback": [
            "\u001b[1;31m---------------------------------------------------------------------------\u001b[0m",
            "\u001b[1;31mMemoryError\u001b[0m                               Traceback (most recent call last)",
            "Cell \u001b[1;32mIn[213], line 1\u001b[0m\n\u001b[1;32m----> 1\u001b[0m data21\u001b[39m=\u001b[39mclean_csv2(data21)\n",
            "Cell \u001b[1;32mIn[209], line 10\u001b[0m, in \u001b[0;36mclean_csv2\u001b[1;34m(df)\u001b[0m\n\u001b[0;32m      8\u001b[0m \u001b[39m#df['text']=df['title']+\" \"+df['text'] #append text to title\u001b[39;00m\n\u001b[0;32m      9\u001b[0m vfunc\u001b[39m=\u001b[39mnp\u001b[39m.\u001b[39mvectorize(clean_string) \u001b[39m#vectorize th clean_string function for use in pandas df\u001b[39;00m\n\u001b[1;32m---> 10\u001b[0m df[\u001b[39m'\u001b[39;49m\u001b[39mtext\u001b[39;49m\u001b[39m'\u001b[39;49m]\u001b[39m=\u001b[39mvfunc(df[\u001b[39m'\u001b[39m\u001b[39mtext\u001b[39m\u001b[39m'\u001b[39m]) \u001b[39m#apply the vectorized function to further clean the data\u001b[39;00m\n\u001b[0;32m     11\u001b[0m df\u001b[39m.\u001b[39mreset_index() \u001b[39m#reset all indexes of the dataset\u001b[39;00m\n\u001b[0;32m     12\u001b[0m \u001b[39mfor\u001b[39;00m x \u001b[39min\u001b[39;00m \u001b[39mrange\u001b[39m (\u001b[39mlen\u001b[39m(df)):\n",
            "File \u001b[1;32mc:\\Users\\Mobius\\AppData\\Local\\Programs\\Python\\Python311\\Lib\\site-packages\\pandas\\core\\frame.py:3950\u001b[0m, in \u001b[0;36mDataFrame.__setitem__\u001b[1;34m(self, key, value)\u001b[0m\n\u001b[0;32m   3947\u001b[0m     \u001b[39mself\u001b[39m\u001b[39m.\u001b[39m_setitem_array([key], value)\n\u001b[0;32m   3948\u001b[0m \u001b[39melse\u001b[39;00m:\n\u001b[0;32m   3949\u001b[0m     \u001b[39m# set column\u001b[39;00m\n\u001b[1;32m-> 3950\u001b[0m     \u001b[39mself\u001b[39;49m\u001b[39m.\u001b[39;49m_set_item(key, value)\n",
            "File \u001b[1;32mc:\\Users\\Mobius\\AppData\\Local\\Programs\\Python\\Python311\\Lib\\site-packages\\pandas\\core\\frame.py:4143\u001b[0m, in \u001b[0;36mDataFrame._set_item\u001b[1;34m(self, key, value)\u001b[0m\n\u001b[0;32m   4133\u001b[0m \u001b[39mdef\u001b[39;00m \u001b[39m_set_item\u001b[39m(\u001b[39mself\u001b[39m, key, value) \u001b[39m-\u001b[39m\u001b[39m>\u001b[39m \u001b[39mNone\u001b[39;00m:\n\u001b[0;32m   4134\u001b[0m \u001b[39m    \u001b[39m\u001b[39m\"\"\"\u001b[39;00m\n\u001b[0;32m   4135\u001b[0m \u001b[39m    Add series to DataFrame in specified column.\u001b[39;00m\n\u001b[0;32m   4136\u001b[0m \n\u001b[1;32m   (...)\u001b[0m\n\u001b[0;32m   4141\u001b[0m \u001b[39m    ensure homogeneity.\u001b[39;00m\n\u001b[0;32m   4142\u001b[0m \u001b[39m    \"\"\"\u001b[39;00m\n\u001b[1;32m-> 4143\u001b[0m     value \u001b[39m=\u001b[39m \u001b[39mself\u001b[39;49m\u001b[39m.\u001b[39;49m_sanitize_column(value)\n\u001b[0;32m   4145\u001b[0m     \u001b[39mif\u001b[39;00m (\n\u001b[0;32m   4146\u001b[0m         key \u001b[39min\u001b[39;00m \u001b[39mself\u001b[39m\u001b[39m.\u001b[39mcolumns\n\u001b[0;32m   4147\u001b[0m         \u001b[39mand\u001b[39;00m value\u001b[39m.\u001b[39mndim \u001b[39m==\u001b[39m \u001b[39m1\u001b[39m\n\u001b[0;32m   4148\u001b[0m         \u001b[39mand\u001b[39;00m \u001b[39mnot\u001b[39;00m is_extension_array_dtype(value)\n\u001b[0;32m   4149\u001b[0m     ):\n\u001b[0;32m   4150\u001b[0m         \u001b[39m# broadcast across multiple columns if necessary\u001b[39;00m\n\u001b[0;32m   4151\u001b[0m         \u001b[39mif\u001b[39;00m \u001b[39mnot\u001b[39;00m \u001b[39mself\u001b[39m\u001b[39m.\u001b[39mcolumns\u001b[39m.\u001b[39mis_unique \u001b[39mor\u001b[39;00m \u001b[39misinstance\u001b[39m(\u001b[39mself\u001b[39m\u001b[39m.\u001b[39mcolumns, MultiIndex):\n",
            "File \u001b[1;32mc:\\Users\\Mobius\\AppData\\Local\\Programs\\Python\\Python311\\Lib\\site-packages\\pandas\\core\\frame.py:4871\u001b[0m, in \u001b[0;36mDataFrame._sanitize_column\u001b[1;34m(self, value)\u001b[0m\n\u001b[0;32m   4869\u001b[0m \u001b[39mif\u001b[39;00m is_list_like(value):\n\u001b[0;32m   4870\u001b[0m     com\u001b[39m.\u001b[39mrequire_length_match(value, \u001b[39mself\u001b[39m\u001b[39m.\u001b[39mindex)\n\u001b[1;32m-> 4871\u001b[0m \u001b[39mreturn\u001b[39;00m sanitize_array(value, \u001b[39mself\u001b[39;49m\u001b[39m.\u001b[39;49mindex, copy\u001b[39m=\u001b[39;49m\u001b[39mTrue\u001b[39;49;00m, allow_2d\u001b[39m=\u001b[39;49m\u001b[39mTrue\u001b[39;49;00m)\n",
            "File \u001b[1;32mc:\\Users\\Mobius\\AppData\\Local\\Programs\\Python\\Python311\\Lib\\site-packages\\pandas\\core\\construction.py:572\u001b[0m, in \u001b[0;36msanitize_array\u001b[1;34m(data, index, dtype, copy, allow_2d)\u001b[0m\n\u001b[0;32m    569\u001b[0m         subarr \u001b[39m=\u001b[39m maybe_infer_to_datetimelike(data)\n\u001b[0;32m    571\u001b[0m     \u001b[39mif\u001b[39;00m subarr \u001b[39mis\u001b[39;00m data \u001b[39mand\u001b[39;00m copy:\n\u001b[1;32m--> 572\u001b[0m         subarr \u001b[39m=\u001b[39m subarr\u001b[39m.\u001b[39mcopy()\n\u001b[0;32m    574\u001b[0m \u001b[39melse\u001b[39;00m:\n\u001b[0;32m    575\u001b[0m     \u001b[39m# we will try to copy by-definition here\u001b[39;00m\n\u001b[0;32m    576\u001b[0m     subarr \u001b[39m=\u001b[39m _try_cast(data, dtype, copy)\n",
            "\u001b[1;31mMemoryError\u001b[0m: Unable to allocate 4.65 GiB for an array with shape (11168,) and data type <U111784"
          ]
        }
      ],
      "source": [
        "data21=clean_csv2(data21)"
      ]
    },
    {
      "cell_type": "markdown",
      "metadata": {},
      "source": [
        "Splitting up the datasets to conserve RAM, and aviod crashes during cleaning"
      ]
    },
    {
      "cell_type": "code",
      "execution_count": 77,
      "metadata": {
        "id": "z7lhtdP6w8m9"
      },
      "outputs": [],
      "source": [
        "fake1=fake.iloc[:int(len(fake)/2),:]\n",
        "fake2=fake.iloc[int(len(fake)/2):,:]"
      ]
    },
    {
      "cell_type": "code",
      "execution_count": 177,
      "metadata": {
        "colab": {
          "base_uri": "https://localhost:8080/"
        },
        "id": "6pOY72SkdAs2",
        "outputId": "9851ffbc-cc9b-45ba-e1a5-4e4d5e486897"
      },
      "outputs": [
        {
          "name": "stdout",
          "output_type": "stream",
          "text": [
            "Cleaning CSV.\n",
            "Cleaning completed.\n"
          ]
        }
      ],
      "source": [
        "fake1=clean_csv(fake1,0)"
      ]
    },
    {
      "cell_type": "code",
      "execution_count": 179,
      "metadata": {},
      "outputs": [
        {
          "data": {
            "text/html": [
              "<div>\n",
              "<style scoped>\n",
              "    .dataframe tbody tr th:only-of-type {\n",
              "        vertical-align: middle;\n",
              "    }\n",
              "\n",
              "    .dataframe tbody tr th {\n",
              "        vertical-align: top;\n",
              "    }\n",
              "\n",
              "    .dataframe thead th {\n",
              "        text-align: right;\n",
              "    }\n",
              "</style>\n",
              "<table border=\"1\" class=\"dataframe\">\n",
              "  <thead>\n",
              "    <tr style=\"text-align: right;\">\n",
              "      <th></th>\n",
              "      <th>title</th>\n",
              "      <th>text</th>\n",
              "      <th>subject</th>\n",
              "      <th>date</th>\n",
              "      <th>length</th>\n",
              "      <th>identity</th>\n",
              "    </tr>\n",
              "  </thead>\n",
              "  <tbody>\n",
              "    <tr>\n",
              "      <th>11734</th>\n",
              "      <td>TRUMP IS REPORTEDLY Preparing Executive Order ...</td>\n",
              "      <td>trump reportedly preparing executive order dep...</td>\n",
              "      <td>politics</td>\n",
              "      <td>Feb 4, 2017</td>\n",
              "      <td>2560</td>\n",
              "      <td>0</td>\n",
              "    </tr>\n",
              "    <tr>\n",
              "      <th>11735</th>\n",
              "      <td>HOW LOS ANGELES COUNTY Helps Illegal Aliens Ge...</td>\n",
              "      <td>los angeles county helps illegal aliens free b...</td>\n",
              "      <td>politics</td>\n",
              "      <td>Feb 4, 2017</td>\n",
              "      <td>1736</td>\n",
              "      <td>0</td>\n",
              "    </tr>\n",
              "    <tr>\n",
              "      <th>11737</th>\n",
              "      <td>MAXINE WATERS TELLS THE “GREATEST DESIRE” FOR ...</td>\n",
              "      <td>maxine waters tells greatest desire nasty dems...</td>\n",
              "      <td>politics</td>\n",
              "      <td>Feb 4, 2017</td>\n",
              "      <td>1223</td>\n",
              "      <td>0</td>\n",
              "    </tr>\n",
              "    <tr>\n",
              "      <th>11738</th>\n",
              "      <td>MMA FIGHTER JAKE SHIELDS Embarrasses Cowards I...</td>\n",
              "      <td>mma fighter jake shields embarrasses cowards m...</td>\n",
              "      <td>politics</td>\n",
              "      <td>Feb 4, 2017</td>\n",
              "      <td>3859</td>\n",
              "      <td>0</td>\n",
              "    </tr>\n",
              "  </tbody>\n",
              "</table>\n",
              "</div>"
            ],
            "text/plain": [
              "                                                   title  \\\n",
              "11734  TRUMP IS REPORTEDLY Preparing Executive Order ...   \n",
              "11735  HOW LOS ANGELES COUNTY Helps Illegal Aliens Ge...   \n",
              "11737  MAXINE WATERS TELLS THE “GREATEST DESIRE” FOR ...   \n",
              "11738  MMA FIGHTER JAKE SHIELDS Embarrasses Cowards I...   \n",
              "\n",
              "                                                    text   subject  \\\n",
              "11734  trump reportedly preparing executive order dep...  politics   \n",
              "11735  los angeles county helps illegal aliens free b...  politics   \n",
              "11737  maxine waters tells greatest desire nasty dems...  politics   \n",
              "11738  mma fighter jake shields embarrasses cowards m...  politics   \n",
              "\n",
              "              date  length  identity  \n",
              "11734  Feb 4, 2017    2560         0  \n",
              "11735  Feb 4, 2017    1736         0  \n",
              "11737  Feb 4, 2017    1223         0  \n",
              "11738  Feb 4, 2017    3859         0  "
            ]
          },
          "execution_count": 179,
          "metadata": {},
          "output_type": "execute_result"
        }
      ],
      "source": [
        "fake1.tail(4)"
      ]
    },
    {
      "cell_type": "code",
      "execution_count": 180,
      "metadata": {
        "colab": {
          "base_uri": "https://localhost:8080/"
        },
        "id": "IO3TB-KSxn4Z",
        "outputId": "d3db8cce-1c73-4c25-a00b-eaf03658e25c"
      },
      "outputs": [
        {
          "name": "stdout",
          "output_type": "stream",
          "text": [
            "Cleaning CSV.\n",
            "Cleaning completed.\n"
          ]
        }
      ],
      "source": [
        "fake2=clean_csv(fake2,0)"
      ]
    },
    {
      "cell_type": "code",
      "execution_count": 181,
      "metadata": {
        "id": "Q6S3oMI7xsLh"
      },
      "outputs": [],
      "source": [
        "fake=pd.concat([fake1,fake2])"
      ]
    },
    {
      "cell_type": "code",
      "execution_count": 182,
      "metadata": {
        "colab": {
          "base_uri": "https://localhost:8080/",
          "height": 175
        },
        "id": "7-iLsEjEgiTH",
        "outputId": "41a188d7-62bf-4495-94f0-ca0b20b6cea8"
      },
      "outputs": [
        {
          "data": {
            "text/html": [
              "<div>\n",
              "<style scoped>\n",
              "    .dataframe tbody tr th:only-of-type {\n",
              "        vertical-align: middle;\n",
              "    }\n",
              "\n",
              "    .dataframe tbody tr th {\n",
              "        vertical-align: top;\n",
              "    }\n",
              "\n",
              "    .dataframe thead th {\n",
              "        text-align: right;\n",
              "    }\n",
              "</style>\n",
              "<table border=\"1\" class=\"dataframe\">\n",
              "  <thead>\n",
              "    <tr style=\"text-align: right;\">\n",
              "      <th></th>\n",
              "      <th>title</th>\n",
              "      <th>text</th>\n",
              "      <th>subject</th>\n",
              "      <th>date</th>\n",
              "      <th>length</th>\n",
              "      <th>identity</th>\n",
              "    </tr>\n",
              "  </thead>\n",
              "  <tbody>\n",
              "    <tr>\n",
              "      <th>23477</th>\n",
              "      <td>JUSTICE? Yahoo Settles E-mail Privacy Class-ac...</td>\n",
              "      <td>justice yahoo settles email privacy classactio...</td>\n",
              "      <td>Middle-east</td>\n",
              "      <td>January 16, 2016</td>\n",
              "      <td>1684</td>\n",
              "      <td>0</td>\n",
              "    </tr>\n",
              "    <tr>\n",
              "      <th>23478</th>\n",
              "      <td>Sunnistan: US and Allied ‘Safe Zone’ Plan to T...</td>\n",
              "      <td>sunnistan allied safe zone plan territorial bo...</td>\n",
              "      <td>Middle-east</td>\n",
              "      <td>January 15, 2016</td>\n",
              "      <td>25065</td>\n",
              "      <td>0</td>\n",
              "    </tr>\n",
              "    <tr>\n",
              "      <th>23479</th>\n",
              "      <td>How to Blow $700 Million: Al Jazeera America F...</td>\n",
              "      <td>blow 700 million al jazeera america finally ca...</td>\n",
              "      <td>Middle-east</td>\n",
              "      <td>January 14, 2016</td>\n",
              "      <td>2685</td>\n",
              "      <td>0</td>\n",
              "    </tr>\n",
              "    <tr>\n",
              "      <th>23480</th>\n",
              "      <td>10 U.S. Navy Sailors Held by Iranian Military ...</td>\n",
              "      <td>10 navy sailors held iranian military signs ne...</td>\n",
              "      <td>Middle-east</td>\n",
              "      <td>January 12, 2016</td>\n",
              "      <td>5251</td>\n",
              "      <td>0</td>\n",
              "    </tr>\n",
              "  </tbody>\n",
              "</table>\n",
              "</div>"
            ],
            "text/plain": [
              "                                                   title  \\\n",
              "23477  JUSTICE? Yahoo Settles E-mail Privacy Class-ac...   \n",
              "23478  Sunnistan: US and Allied ‘Safe Zone’ Plan to T...   \n",
              "23479  How to Blow $700 Million: Al Jazeera America F...   \n",
              "23480  10 U.S. Navy Sailors Held by Iranian Military ...   \n",
              "\n",
              "                                                    text      subject  \\\n",
              "23477  justice yahoo settles email privacy classactio...  Middle-east   \n",
              "23478  sunnistan allied safe zone plan territorial bo...  Middle-east   \n",
              "23479  blow 700 million al jazeera america finally ca...  Middle-east   \n",
              "23480  10 navy sailors held iranian military signs ne...  Middle-east   \n",
              "\n",
              "                   date  length  identity  \n",
              "23477  January 16, 2016    1684         0  \n",
              "23478  January 15, 2016   25065         0  \n",
              "23479  January 14, 2016    2685         0  \n",
              "23480  January 12, 2016    5251         0  "
            ]
          },
          "execution_count": 182,
          "metadata": {},
          "output_type": "execute_result"
        }
      ],
      "source": [
        "fake.tail(4)"
      ]
    },
    {
      "cell_type": "code",
      "execution_count": 183,
      "metadata": {
        "id": "KAL-eoUNxxyM"
      },
      "outputs": [],
      "source": [
        "real1=real.iloc[:int(len(real)/2),:]\n",
        "real2=real.iloc[int(len(real)/2):,:]"
      ]
    },
    {
      "cell_type": "code",
      "execution_count": 184,
      "metadata": {
        "colab": {
          "base_uri": "https://localhost:8080/"
        },
        "id": "5b4ZU2MBiqFN",
        "outputId": "96517e98-3070-418c-9e4c-23be65eca2b4"
      },
      "outputs": [
        {
          "name": "stdout",
          "output_type": "stream",
          "text": [
            "Cleaning CSV.\n",
            "Cleaning completed.\n"
          ]
        }
      ],
      "source": [
        "real1=clean_csv(real1,1)"
      ]
    },
    {
      "cell_type": "code",
      "execution_count": 185,
      "metadata": {
        "colab": {
          "base_uri": "https://localhost:8080/"
        },
        "id": "o-Rjm2Xdx68j",
        "outputId": "8171a2ce-8a11-4eae-ecb8-fd37f35a4d65"
      },
      "outputs": [
        {
          "name": "stdout",
          "output_type": "stream",
          "text": [
            "Cleaning CSV.\n",
            "Cleaning completed.\n"
          ]
        }
      ],
      "source": [
        "real2=clean_csv(real2,1)"
      ]
    },
    {
      "cell_type": "code",
      "execution_count": 186,
      "metadata": {
        "id": "8qLJw3N-x9zc"
      },
      "outputs": [],
      "source": [
        "real=pd.concat([real1,real2])"
      ]
    },
    {
      "cell_type": "code",
      "execution_count": 187,
      "metadata": {
        "colab": {
          "base_uri": "https://localhost:8080/",
          "height": 175
        },
        "id": "4_GaUEAmqNK9",
        "outputId": "22f69544-808a-4d12-d3ce-40024253c01c"
      },
      "outputs": [
        {
          "data": {
            "text/html": [
              "<div>\n",
              "<style scoped>\n",
              "    .dataframe tbody tr th:only-of-type {\n",
              "        vertical-align: middle;\n",
              "    }\n",
              "\n",
              "    .dataframe tbody tr th {\n",
              "        vertical-align: top;\n",
              "    }\n",
              "\n",
              "    .dataframe thead th {\n",
              "        text-align: right;\n",
              "    }\n",
              "</style>\n",
              "<table border=\"1\" class=\"dataframe\">\n",
              "  <thead>\n",
              "    <tr style=\"text-align: right;\">\n",
              "      <th></th>\n",
              "      <th>title</th>\n",
              "      <th>text</th>\n",
              "      <th>subject</th>\n",
              "      <th>date</th>\n",
              "      <th>length</th>\n",
              "      <th>identity</th>\n",
              "    </tr>\n",
              "  </thead>\n",
              "  <tbody>\n",
              "    <tr>\n",
              "      <th>21413</th>\n",
              "      <td>LexisNexis withdrew two products from Chinese ...</td>\n",
              "      <td>lexisnexis withdrew products chinese market lo...</td>\n",
              "      <td>worldnews</td>\n",
              "      <td>August 22, 2017</td>\n",
              "      <td>800</td>\n",
              "      <td>1</td>\n",
              "    </tr>\n",
              "    <tr>\n",
              "      <th>21414</th>\n",
              "      <td>Minsk cultural hub becomes haven from authorities</td>\n",
              "      <td>minsk cultural hub haven authorities minsk reu...</td>\n",
              "      <td>worldnews</td>\n",
              "      <td>August 22, 2017</td>\n",
              "      <td>1950</td>\n",
              "      <td>1</td>\n",
              "    </tr>\n",
              "    <tr>\n",
              "      <th>21415</th>\n",
              "      <td>Vatican upbeat on possibility of Pope Francis ...</td>\n",
              "      <td>vatican upbeat possibility pope francis visiti...</td>\n",
              "      <td>worldnews</td>\n",
              "      <td>August 22, 2017</td>\n",
              "      <td>1199</td>\n",
              "      <td>1</td>\n",
              "    </tr>\n",
              "    <tr>\n",
              "      <th>21416</th>\n",
              "      <td>Indonesia to buy $1.14 billion worth of Russia...</td>\n",
              "      <td>indonesia buy 114 billion worth russian jets j...</td>\n",
              "      <td>worldnews</td>\n",
              "      <td>August 22, 2017</td>\n",
              "      <td>1338</td>\n",
              "      <td>1</td>\n",
              "    </tr>\n",
              "  </tbody>\n",
              "</table>\n",
              "</div>"
            ],
            "text/plain": [
              "                                                   title  \\\n",
              "21413  LexisNexis withdrew two products from Chinese ...   \n",
              "21414  Minsk cultural hub becomes haven from authorities   \n",
              "21415  Vatican upbeat on possibility of Pope Francis ...   \n",
              "21416  Indonesia to buy $1.14 billion worth of Russia...   \n",
              "\n",
              "                                                    text    subject  \\\n",
              "21413  lexisnexis withdrew products chinese market lo...  worldnews   \n",
              "21414  minsk cultural hub haven authorities minsk reu...  worldnews   \n",
              "21415  vatican upbeat possibility pope francis visiti...  worldnews   \n",
              "21416  indonesia buy 114 billion worth russian jets j...  worldnews   \n",
              "\n",
              "                   date  length  identity  \n",
              "21413  August 22, 2017      800         1  \n",
              "21414  August 22, 2017     1950         1  \n",
              "21415  August 22, 2017     1199         1  \n",
              "21416  August 22, 2017     1338         1  "
            ]
          },
          "execution_count": 187,
          "metadata": {},
          "output_type": "execute_result"
        }
      ],
      "source": [
        "real.tail(4)"
      ]
    },
    {
      "cell_type": "markdown",
      "metadata": {
        "id": "EXgRG0KMsAAq"
      },
      "source": [
        "Dropping all unnecessary columns"
      ]
    },
    {
      "cell_type": "code",
      "execution_count": 188,
      "metadata": {
        "id": "WzvB2FiSqT1g"
      },
      "outputs": [],
      "source": [
        "fake=fake[['text','identity']]\n",
        "real=real[['text','identity']]"
      ]
    },
    {
      "cell_type": "code",
      "execution_count": 189,
      "metadata": {
        "colab": {
          "base_uri": "https://localhost:8080/",
          "height": 112
        },
        "id": "OWQ6U5g8sv-T",
        "outputId": "d556ea6d-1ac0-4acc-ed89-092df9031e25"
      },
      "outputs": [
        {
          "data": {
            "text/html": [
              "<div>\n",
              "<style scoped>\n",
              "    .dataframe tbody tr th:only-of-type {\n",
              "        vertical-align: middle;\n",
              "    }\n",
              "\n",
              "    .dataframe tbody tr th {\n",
              "        vertical-align: top;\n",
              "    }\n",
              "\n",
              "    .dataframe thead th {\n",
              "        text-align: right;\n",
              "    }\n",
              "</style>\n",
              "<table border=\"1\" class=\"dataframe\">\n",
              "  <thead>\n",
              "    <tr style=\"text-align: right;\">\n",
              "      <th></th>\n",
              "      <th>text</th>\n",
              "      <th>identity</th>\n",
              "    </tr>\n",
              "  </thead>\n",
              "  <tbody>\n",
              "    <tr>\n",
              "      <th>23479</th>\n",
              "      <td>blow 700 million al jazeera america finally ca...</td>\n",
              "      <td>0</td>\n",
              "    </tr>\n",
              "    <tr>\n",
              "      <th>23480</th>\n",
              "      <td>10 navy sailors held iranian military signs ne...</td>\n",
              "      <td>0</td>\n",
              "    </tr>\n",
              "  </tbody>\n",
              "</table>\n",
              "</div>"
            ],
            "text/plain": [
              "                                                    text  identity\n",
              "23479  blow 700 million al jazeera america finally ca...         0\n",
              "23480  10 navy sailors held iranian military signs ne...         0"
            ]
          },
          "execution_count": 189,
          "metadata": {},
          "output_type": "execute_result"
        }
      ],
      "source": [
        "fake.tail(2)"
      ]
    },
    {
      "cell_type": "code",
      "execution_count": 199,
      "metadata": {
        "id": "7KBiiWP3xfX1"
      },
      "outputs": [],
      "source": [
        "data1=pd.concat([real,fake],ignore_index=True)"
      ]
    },
    {
      "cell_type": "code",
      "execution_count": 198,
      "metadata": {
        "colab": {
          "base_uri": "https://localhost:8080/",
          "height": 175
        },
        "id": "Lnnp3zsoxlXe",
        "outputId": "54bf8477-a4a9-49b6-89bd-81509095e12c"
      },
      "outputs": [
        {
          "data": {
            "text/html": [
              "<div>\n",
              "<style scoped>\n",
              "    .dataframe tbody tr th:only-of-type {\n",
              "        vertical-align: middle;\n",
              "    }\n",
              "\n",
              "    .dataframe tbody tr th {\n",
              "        vertical-align: top;\n",
              "    }\n",
              "\n",
              "    .dataframe thead th {\n",
              "        text-align: right;\n",
              "    }\n",
              "</style>\n",
              "<table border=\"1\" class=\"dataframe\">\n",
              "  <thead>\n",
              "    <tr style=\"text-align: right;\">\n",
              "      <th></th>\n",
              "      <th>text</th>\n",
              "      <th>identity</th>\n",
              "    </tr>\n",
              "  </thead>\n",
              "  <tbody>\n",
              "    <tr>\n",
              "      <th>43748</th>\n",
              "      <td>justice yahoo settles email privacy classactio...</td>\n",
              "      <td>0</td>\n",
              "    </tr>\n",
              "    <tr>\n",
              "      <th>43749</th>\n",
              "      <td>sunnistan allied safe zone plan territorial bo...</td>\n",
              "      <td>0</td>\n",
              "    </tr>\n",
              "    <tr>\n",
              "      <th>43750</th>\n",
              "      <td>blow 700 million al jazeera america finally ca...</td>\n",
              "      <td>0</td>\n",
              "    </tr>\n",
              "    <tr>\n",
              "      <th>43751</th>\n",
              "      <td>10 navy sailors held iranian military signs ne...</td>\n",
              "      <td>0</td>\n",
              "    </tr>\n",
              "  </tbody>\n",
              "</table>\n",
              "</div>"
            ],
            "text/plain": [
              "                                                    text  identity\n",
              "43748  justice yahoo settles email privacy classactio...         0\n",
              "43749  sunnistan allied safe zone plan territorial bo...         0\n",
              "43750  blow 700 million al jazeera america finally ca...         0\n",
              "43751  10 navy sailors held iranian military signs ne...         0"
            ]
          },
          "execution_count": 198,
          "metadata": {},
          "output_type": "execute_result"
        }
      ],
      "source": [
        "data1.tail(4)"
      ]
    },
    {
      "cell_type": "code",
      "execution_count": 200,
      "metadata": {
        "id": "hE5IBrSGWT5w"
      },
      "outputs": [],
      "source": [
        "data=pd.concat([data1,data2],ignore_index=True)"
      ]
    },
    {
      "cell_type": "code",
      "execution_count": 201,
      "metadata": {
        "colab": {
          "base_uri": "https://localhost:8080/",
          "height": 175
        },
        "id": "2sq2rh4wyjHA",
        "outputId": "ba21ff11-2c08-4db5-db7c-1e779e7a45a1"
      },
      "outputs": [
        {
          "data": {
            "text/html": [
              "<div>\n",
              "<style scoped>\n",
              "    .dataframe tbody tr th:only-of-type {\n",
              "        vertical-align: middle;\n",
              "    }\n",
              "\n",
              "    .dataframe tbody tr th {\n",
              "        vertical-align: top;\n",
              "    }\n",
              "\n",
              "    .dataframe thead th {\n",
              "        text-align: right;\n",
              "    }\n",
              "</style>\n",
              "<table border=\"1\" class=\"dataframe\">\n",
              "  <thead>\n",
              "    <tr style=\"text-align: right;\">\n",
              "      <th></th>\n",
              "      <th>text</th>\n",
              "      <th>identity</th>\n",
              "      <th>Unnamed: 0</th>\n",
              "    </tr>\n",
              "  </thead>\n",
              "  <tbody>\n",
              "    <tr>\n",
              "      <th>61810</th>\n",
              "      <td>nfl playoffs schedule matchups and odds  the n...</td>\n",
              "      <td>0</td>\n",
              "      <td>18058.0</td>\n",
              "    </tr>\n",
              "    <tr>\n",
              "      <th>61811</th>\n",
              "      <td>macys is said to receive takeover approach by ...</td>\n",
              "      <td>0</td>\n",
              "      <td>18059.0</td>\n",
              "    </tr>\n",
              "    <tr>\n",
              "      <th>61812</th>\n",
              "      <td>nato russia to hold parallel exercises in balk...</td>\n",
              "      <td>1</td>\n",
              "      <td>18060.0</td>\n",
              "    </tr>\n",
              "    <tr>\n",
              "      <th>61813</th>\n",
              "      <td>what keeps the f35 alive   david swanson is an...</td>\n",
              "      <td>1</td>\n",
              "      <td>18061.0</td>\n",
              "    </tr>\n",
              "  </tbody>\n",
              "</table>\n",
              "</div>"
            ],
            "text/plain": [
              "                                                    text  identity  Unnamed: 0\n",
              "61810  nfl playoffs schedule matchups and odds  the n...         0     18058.0\n",
              "61811  macys is said to receive takeover approach by ...         0     18059.0\n",
              "61812  nato russia to hold parallel exercises in balk...         1     18060.0\n",
              "61813  what keeps the f35 alive   david swanson is an...         1     18061.0"
            ]
          },
          "execution_count": 201,
          "metadata": {},
          "output_type": "execute_result"
        }
      ],
      "source": [
        "data.tail(4)"
      ]
    },
    {
      "cell_type": "code",
      "execution_count": 27,
      "metadata": {
        "colab": {
          "base_uri": "https://localhost:8080/",
          "height": 206
        },
        "id": "icyIeB20ZmLI",
        "outputId": "1a227aa6-686b-4a0e-a2c6-682fd4ab883d"
      },
      "outputs": [
        {
          "data": {
            "text/html": [
              "<div>\n",
              "<style scoped>\n",
              "    .dataframe tbody tr th:only-of-type {\n",
              "        vertical-align: middle;\n",
              "    }\n",
              "\n",
              "    .dataframe tbody tr th {\n",
              "        vertical-align: top;\n",
              "    }\n",
              "\n",
              "    .dataframe thead th {\n",
              "        text-align: right;\n",
              "    }\n",
              "</style>\n",
              "<table border=\"1\" class=\"dataframe\">\n",
              "  <thead>\n",
              "    <tr style=\"text-align: right;\">\n",
              "      <th></th>\n",
              "      <th>text</th>\n",
              "      <th>identity</th>\n",
              "    </tr>\n",
              "  </thead>\n",
              "  <tbody>\n",
              "    <tr>\n",
              "      <th>61809</th>\n",
              "      <td>rapper ti trump a poster child for white supre...</td>\n",
              "      <td>0</td>\n",
              "    </tr>\n",
              "    <tr>\n",
              "      <th>61810</th>\n",
              "      <td>nfl playoffs schedule matchups and odds  the n...</td>\n",
              "      <td>0</td>\n",
              "    </tr>\n",
              "    <tr>\n",
              "      <th>61811</th>\n",
              "      <td>macys is said to receive takeover approach by ...</td>\n",
              "      <td>0</td>\n",
              "    </tr>\n",
              "    <tr>\n",
              "      <th>61812</th>\n",
              "      <td>nato russia to hold parallel exercises in balk...</td>\n",
              "      <td>1</td>\n",
              "    </tr>\n",
              "    <tr>\n",
              "      <th>61813</th>\n",
              "      <td>what keeps the f35 alive   david swanson is an...</td>\n",
              "      <td>1</td>\n",
              "    </tr>\n",
              "  </tbody>\n",
              "</table>\n",
              "</div>"
            ],
            "text/plain": [
              "                                                    text  identity\n",
              "61809  rapper ti trump a poster child for white supre...         0\n",
              "61810  nfl playoffs schedule matchups and odds  the n...         0\n",
              "61811  macys is said to receive takeover approach by ...         0\n",
              "61812  nato russia to hold parallel exercises in balk...         1\n",
              "61813  what keeps the f35 alive   david swanson is an...         1"
            ]
          },
          "execution_count": 27,
          "metadata": {},
          "output_type": "execute_result"
        }
      ],
      "source": [
        "data=data[['text','identity']]\n",
        "data.reset_index()\n",
        "data.tail()"
      ]
    },
    {
      "cell_type": "markdown",
      "metadata": {
        "id": "ExKTZNml5050"
      },
      "source": [
        "Importing dependencies for ANN and Representation"
      ]
    },
    {
      "cell_type": "code",
      "execution_count": 2,
      "metadata": {
        "id": "SwJ6aopd2Vpl"
      },
      "outputs": [],
      "source": [
        "import tensorflow as tf\n",
        "\n",
        "from keras.preprocessing.text import Tokenizer\n",
        "from keras.utils import pad_sequences\n",
        "from keras.models import Sequential\n",
        "from keras.layers import Dense,Embedding,LSTM,Conv1D,MaxPool1D,Dropout,GRU\n",
        "from sklearn.model_selection import train_test_split\n",
        "from sklearn.metrics import classification_report,accuracy_score"
      ]
    },
    {
      "cell_type": "markdown",
      "metadata": {
        "id": "duo7OpvF6Zq3"
      },
      "source": [
        "Tokenizing the dataset for use in the ANN (One_Hot Representation)"
      ]
    },
    {
      "cell_type": "code",
      "execution_count": 29,
      "metadata": {
        "id": "bNecmkTH6CY2"
      },
      "outputs": [
        {
          "name": "stdout",
          "output_type": "stream",
          "text": [
            "Tokenizing DF.\n",
            "Tokenized DF.\n"
          ]
        }
      ],
      "source": [
        "print('Tokenizing DF.')\n",
        "tokenizer=Tokenizer(num_words=max_features,filters='!\"#$%&()*+,-./:;<=>?@[\\\\]^_`{|}~\\t\\n',split =' ') #filters is redundant, but still keeping if I missed any symbols previously\n",
        "tokenizer.fit_on_texts(texts=data['text']) #fit\n",
        "X=tokenizer.texts_to_sequences(texts=data['text'])\n",
        "X=pad_sequences(sequences=X,maxlen=max_len,padding='pre') #padding the set of words\n",
        "Y=data['identity'].values #identities (0/1)\n",
        "V=tokenizer.word_index #vocabulary\n",
        "print('Tokenized DF.')"
      ]
    },
    {
      "cell_type": "markdown",
      "metadata": {
        "id": "9VyJBuhS6mPJ"
      },
      "source": [
        "Creating the model and compiling it to be used."
      ]
    },
    {
      "cell_type": "code",
      "execution_count": null,
      "metadata": {
        "id": "_Oc9EBxT3EHr"
      },
      "outputs": [],
      "source": [
        "def create_lstm_model(max_features): #creating the internal structure of the simple LSTM model\n",
        "        print('Creating LSTM model.')\n",
        "        lstm_model=Sequential(name='Sierra')\n",
        "        lstm_model.add(layer=Embedding(input_dim=max_features,output_dim=128,name='Echo'))\n",
        "        lstm_model.add(layer=LSTM(units=128,name='Lima'))\n",
        "        lstm_model.add(layer=Dense(1,activation='sigmoid',name ='Omega'))\n",
        "        print('Model creation completed.')\n",
        "        lstm_model.compile(optimizer='adam',loss='binary_crossentropy',metrics=['accuracy'])\n",
        "        print('Model compiled.')\n",
        "        return lstm_model"
      ]
    },
    {
      "cell_type": "code",
      "execution_count": null,
      "metadata": {
        "colab": {
          "base_uri": "https://localhost:8080/"
        },
        "id": "veGVczge3Gv7",
        "outputId": "24349eec-69f1-4bb1-d016-7c2a1bbc2c35"
      },
      "outputs": [
        {
          "name": "stdout",
          "output_type": "stream",
          "text": [
            "Creating LSTM model.\n",
            "Model creation completed.\n",
            "Model compiled.\n"
          ]
        }
      ],
      "source": [
        "lstm_model=create_lstm_model(max_features)"
      ]
    },
    {
      "cell_type": "code",
      "execution_count": 30,
      "metadata": {
        "id": "gZE9GRYJ3LOm"
      },
      "outputs": [],
      "source": [
        "X_train,X_test,Y_train,Y_test=train_test_split(X,Y)"
      ]
    },
    {
      "cell_type": "code",
      "execution_count": null,
      "metadata": {
        "colab": {
          "base_uri": "https://localhost:8080/"
        },
        "id": "211khDibvkAX",
        "outputId": "b15b8455-3cc3-4998-c002-3641642c0d18"
      },
      "outputs": [
        {
          "name": "stdout",
          "output_type": "stream",
          "text": [
            "Epoch 1/100\n",
            "64/64 [==============================] - 35s 497ms/step - loss: 0.5000 - accuracy: 0.7618 - val_loss: 0.2934 - val_accuracy: 0.8724\n",
            "Epoch 2/100\n",
            "64/64 [==============================] - 29s 454ms/step - loss: 0.2231 - accuracy: 0.9183 - val_loss: 0.2396 - val_accuracy: 0.9109\n",
            "Epoch 3/100\n",
            "64/64 [==============================] - 29s 448ms/step - loss: 0.1557 - accuracy: 0.9432 - val_loss: 0.2051 - val_accuracy: 0.9206\n",
            "Epoch 4/100\n",
            "64/64 [==============================] - 29s 461ms/step - loss: 0.3223 - accuracy: 0.8482 - val_loss: 0.3711 - val_accuracy: 0.8282\n",
            "Epoch 5/100\n",
            "64/64 [==============================] - 30s 469ms/step - loss: 0.2008 - accuracy: 0.9304 - val_loss: 0.2360 - val_accuracy: 0.9057\n",
            "Epoch 6/100\n",
            "64/64 [==============================] - 28s 446ms/step - loss: 0.1278 - accuracy: 0.9566 - val_loss: 0.2349 - val_accuracy: 0.9262\n",
            "Epoch 7/100\n",
            "64/64 [==============================] - 29s 449ms/step - loss: 0.1152 - accuracy: 0.9644 - val_loss: 0.1919 - val_accuracy: 0.9383\n",
            "Epoch 8/100\n",
            "64/64 [==============================] - 27s 423ms/step - loss: 0.1493 - accuracy: 0.9543 - val_loss: 0.2030 - val_accuracy: 0.9369\n",
            "Epoch 9/100\n",
            "64/64 [==============================] - 28s 437ms/step - loss: 0.1482 - accuracy: 0.9468 - val_loss: 0.1747 - val_accuracy: 0.9435\n",
            "Epoch 10/100\n",
            "64/64 [==============================] - 28s 440ms/step - loss: 0.0956 - accuracy: 0.9691 - val_loss: 0.1978 - val_accuracy: 0.9351\n",
            "Epoch 11/100\n",
            "64/64 [==============================] - 29s 447ms/step - loss: 0.0790 - accuracy: 0.9761 - val_loss: 0.1915 - val_accuracy: 0.9373\n",
            "Epoch 12/100\n",
            "64/64 [==============================] - 28s 436ms/step - loss: 0.0687 - accuracy: 0.9795 - val_loss: 0.2192 - val_accuracy: 0.9346\n",
            "Epoch 13/100\n",
            "64/64 [==============================] - 28s 447ms/step - loss: 0.0790 - accuracy: 0.9765 - val_loss: 0.2142 - val_accuracy: 0.9256\n",
            "Epoch 14/100\n",
            "64/64 [==============================] - 26s 410ms/step - loss: 0.0637 - accuracy: 0.9819 - val_loss: 0.2335 - val_accuracy: 0.9305\n",
            "Epoch 15/100\n",
            "64/64 [==============================] - 26s 408ms/step - loss: 0.0620 - accuracy: 0.9820 - val_loss: 0.1805 - val_accuracy: 0.9507\n",
            "Epoch 16/100\n",
            "64/64 [==============================] - 28s 436ms/step - loss: 0.0421 - accuracy: 0.9876 - val_loss: 0.1925 - val_accuracy: 0.9450\n",
            "Epoch 17/100\n",
            "64/64 [==============================] - 28s 433ms/step - loss: 0.0359 - accuracy: 0.9904 - val_loss: 0.1914 - val_accuracy: 0.9451\n",
            "Epoch 18/100\n",
            "64/64 [==============================] - 28s 437ms/step - loss: 0.0482 - accuracy: 0.9861 - val_loss: 0.2163 - val_accuracy: 0.9423\n",
            "Epoch 19/100\n",
            "64/64 [==============================] - 28s 436ms/step - loss: 0.0397 - accuracy: 0.9892 - val_loss: 0.1877 - val_accuracy: 0.9523\n",
            "Epoch 20/100\n",
            "64/64 [==============================] - 28s 434ms/step - loss: 0.0408 - accuracy: 0.9879 - val_loss: 0.3092 - val_accuracy: 0.9231\n",
            "Epoch 21/100\n",
            "64/64 [==============================] - 26s 408ms/step - loss: 0.0498 - accuracy: 0.9844 - val_loss: 0.2254 - val_accuracy: 0.9349\n",
            "Epoch 22/100\n",
            "64/64 [==============================] - 26s 407ms/step - loss: 0.0349 - accuracy: 0.9904 - val_loss: 0.2170 - val_accuracy: 0.9513\n",
            "Epoch 23/100\n",
            "64/64 [==============================] - 28s 436ms/step - loss: 0.0399 - accuracy: 0.9886 - val_loss: 0.6627 - val_accuracy: 0.7946\n",
            "Epoch 24/100\n",
            "64/64 [==============================] - 26s 406ms/step - loss: 0.3106 - accuracy: 0.8580 - val_loss: 0.2745 - val_accuracy: 0.8982\n",
            "Epoch 25/100\n",
            "64/64 [==============================] - 26s 409ms/step - loss: 0.2389 - accuracy: 0.9023 - val_loss: 0.4359 - val_accuracy: 0.7940\n",
            "Epoch 26/100\n",
            "64/64 [==============================] - 26s 404ms/step - loss: 0.1917 - accuracy: 0.9244 - val_loss: 0.3253 - val_accuracy: 0.8816\n",
            "Epoch 27/100\n",
            "64/64 [==============================] - 27s 417ms/step - loss: 0.1275 - accuracy: 0.9522 - val_loss: 0.2447 - val_accuracy: 0.9060\n",
            "Epoch 28/100\n",
            "64/64 [==============================] - 28s 439ms/step - loss: 0.0959 - accuracy: 0.9681 - val_loss: 0.2375 - val_accuracy: 0.9234\n",
            "Epoch 29/100\n",
            "64/64 [==============================] - 27s 420ms/step - loss: 0.0884 - accuracy: 0.9693 - val_loss: 0.2353 - val_accuracy: 0.9238\n",
            "Epoch 30/100\n",
            "64/64 [==============================] - 27s 415ms/step - loss: 0.0651 - accuracy: 0.9791 - val_loss: 0.2372 - val_accuracy: 0.9245\n",
            "Epoch 31/100\n",
            "64/64 [==============================] - 26s 415ms/step - loss: 0.0477 - accuracy: 0.9846 - val_loss: 0.2219 - val_accuracy: 0.9329\n",
            "Epoch 32/100\n",
            "64/64 [==============================] - 28s 441ms/step - loss: 0.0442 - accuracy: 0.9869 - val_loss: 0.2636 - val_accuracy: 0.9134\n",
            "Epoch 33/100\n",
            "64/64 [==============================] - 28s 438ms/step - loss: 0.0849 - accuracy: 0.9710 - val_loss: 0.2680 - val_accuracy: 0.9149\n",
            "Epoch 34/100\n",
            "64/64 [==============================] - 28s 443ms/step - loss: 0.0635 - accuracy: 0.9799 - val_loss: 0.2677 - val_accuracy: 0.9268\n",
            "Epoch 35/100\n",
            "64/64 [==============================] - 28s 436ms/step - loss: 0.1025 - accuracy: 0.9650 - val_loss: 0.2622 - val_accuracy: 0.9086\n",
            "Epoch 36/100\n",
            "64/64 [==============================] - 28s 436ms/step - loss: 0.0693 - accuracy: 0.9762 - val_loss: 0.2501 - val_accuracy: 0.9309\n",
            "Epoch 37/100\n",
            "64/64 [==============================] - 28s 439ms/step - loss: 0.0395 - accuracy: 0.9876 - val_loss: 0.2441 - val_accuracy: 0.9326\n",
            "Epoch 38/100\n",
            "64/64 [==============================] - 27s 417ms/step - loss: 0.0674 - accuracy: 0.9780 - val_loss: 0.2510 - val_accuracy: 0.9174\n",
            "Epoch 39/100\n",
            "64/64 [==============================] - 28s 437ms/step - loss: 0.0660 - accuracy: 0.9776 - val_loss: 0.2566 - val_accuracy: 0.9165\n",
            "Epoch 40/100\n",
            "64/64 [==============================] - 28s 435ms/step - loss: 0.1249 - accuracy: 0.9575 - val_loss: 0.2287 - val_accuracy: 0.9336\n",
            "Epoch 41/100\n",
            "64/64 [==============================] - 28s 434ms/step - loss: 0.0397 - accuracy: 0.9881 - val_loss: 0.2396 - val_accuracy: 0.9351\n",
            "Epoch 42/100\n",
            "64/64 [==============================] - 26s 414ms/step - loss: 0.0291 - accuracy: 0.9920 - val_loss: 0.2402 - val_accuracy: 0.9344\n",
            "Epoch 43/100\n",
            "64/64 [==============================] - 28s 441ms/step - loss: 0.1655 - accuracy: 0.9302 - val_loss: 0.2832 - val_accuracy: 0.9025\n",
            "Epoch 44/100\n",
            "64/64 [==============================] - 26s 415ms/step - loss: 0.0415 - accuracy: 0.9878 - val_loss: 0.2578 - val_accuracy: 0.9224\n",
            "Epoch 45/100\n",
            "64/64 [==============================] - 27s 415ms/step - loss: 0.0221 - accuracy: 0.9944 - val_loss: 0.2181 - val_accuracy: 0.9400\n",
            "Epoch 46/100\n",
            "64/64 [==============================] - 28s 436ms/step - loss: 0.0163 - accuracy: 0.9963 - val_loss: 0.2870 - val_accuracy: 0.9247\n",
            "Epoch 47/100\n",
            "64/64 [==============================] - 28s 438ms/step - loss: 0.0151 - accuracy: 0.9965 - val_loss: 0.2504 - val_accuracy: 0.9385\n",
            "Epoch 48/100\n",
            "64/64 [==============================] - 26s 411ms/step - loss: 0.0092 - accuracy: 0.9983 - val_loss: 0.2777 - val_accuracy: 0.9375\n",
            "Epoch 49/100\n",
            "64/64 [==============================] - 26s 413ms/step - loss: 0.0072 - accuracy: 0.9989 - val_loss: 0.2627 - val_accuracy: 0.9408\n",
            "Epoch 50/100\n",
            "64/64 [==============================] - 26s 412ms/step - loss: 0.0059 - accuracy: 0.9991 - val_loss: 0.2672 - val_accuracy: 0.9426\n",
            "Epoch 51/100\n",
            "64/64 [==============================] - 26s 413ms/step - loss: 0.0051 - accuracy: 0.9992 - val_loss: 0.2740 - val_accuracy: 0.9423\n",
            "Epoch 52/100\n",
            "64/64 [==============================] - 28s 435ms/step - loss: 0.0045 - accuracy: 0.9993 - val_loss: 0.2760 - val_accuracy: 0.9433\n",
            "Epoch 53/100\n",
            "64/64 [==============================] - 27s 416ms/step - loss: 0.0039 - accuracy: 0.9993 - val_loss: 0.2825 - val_accuracy: 0.9417\n",
            "Epoch 54/100\n",
            "64/64 [==============================] - 28s 433ms/step - loss: 0.0033 - accuracy: 0.9995 - val_loss: 0.2874 - val_accuracy: 0.9426\n",
            "Epoch 55/100\n",
            "64/64 [==============================] - 26s 409ms/step - loss: 0.0029 - accuracy: 0.9995 - val_loss: 0.2932 - val_accuracy: 0.9424\n",
            "Epoch 56/100\n",
            "64/64 [==============================] - 26s 409ms/step - loss: 0.0026 - accuracy: 0.9996 - val_loss: 0.3008 - val_accuracy: 0.9439\n",
            "Epoch 57/100\n",
            "64/64 [==============================] - 28s 434ms/step - loss: 0.0023 - accuracy: 0.9996 - val_loss: 0.3019 - val_accuracy: 0.9436\n",
            "Epoch 58/100\n",
            "64/64 [==============================] - 27s 415ms/step - loss: 0.0021 - accuracy: 0.9996 - val_loss: 0.3078 - val_accuracy: 0.9431\n",
            "Epoch 59/100\n",
            "64/64 [==============================] - 26s 413ms/step - loss: 0.0019 - accuracy: 0.9997 - val_loss: 0.3110 - val_accuracy: 0.9432\n",
            "Epoch 60/100\n",
            "64/64 [==============================] - 28s 435ms/step - loss: 0.0018 - accuracy: 0.9997 - val_loss: 0.3160 - val_accuracy: 0.9428\n",
            "Epoch 61/100\n",
            "64/64 [==============================] - 26s 411ms/step - loss: 0.0016 - accuracy: 0.9997 - val_loss: 0.3225 - val_accuracy: 0.9416\n",
            "Epoch 62/100\n",
            "64/64 [==============================] - 28s 436ms/step - loss: 0.0014 - accuracy: 0.9998 - val_loss: 0.3269 - val_accuracy: 0.9422\n",
            "Epoch 63/100\n",
            "64/64 [==============================] - 28s 436ms/step - loss: 0.0012 - accuracy: 0.9998 - val_loss: 0.3251 - val_accuracy: 0.9428\n",
            "Epoch 64/100\n",
            "64/64 [==============================] - 28s 437ms/step - loss: 0.0010 - accuracy: 0.9998 - val_loss: 0.3257 - val_accuracy: 0.9438\n",
            "Epoch 65/100\n",
            "64/64 [==============================] - 28s 435ms/step - loss: 8.9680e-04 - accuracy: 0.9998 - val_loss: 0.3306 - val_accuracy: 0.9441\n",
            "Epoch 66/100\n",
            "64/64 [==============================] - 28s 436ms/step - loss: 7.8868e-04 - accuracy: 0.9998 - val_loss: 0.3372 - val_accuracy: 0.9439\n",
            "Epoch 67/100\n",
            "64/64 [==============================] - 27s 417ms/step - loss: 6.9537e-04 - accuracy: 0.9999 - val_loss: 0.3418 - val_accuracy: 0.9438\n",
            "Epoch 68/100\n",
            "64/64 [==============================] - 26s 411ms/step - loss: 6.1833e-04 - accuracy: 0.9999 - val_loss: 0.3459 - val_accuracy: 0.9440\n",
            "Epoch 69/100\n",
            "64/64 [==============================] - 28s 435ms/step - loss: 5.4295e-04 - accuracy: 0.9999 - val_loss: 0.3488 - val_accuracy: 0.9441\n",
            "Epoch 70/100\n",
            "64/64 [==============================] - 28s 435ms/step - loss: 4.8148e-04 - accuracy: 0.9999 - val_loss: 0.3515 - val_accuracy: 0.9443\n",
            "Epoch 71/100\n",
            "64/64 [==============================] - 28s 432ms/step - loss: 4.3205e-04 - accuracy: 0.9999 - val_loss: 0.3581 - val_accuracy: 0.9440\n",
            "Epoch 72/100\n",
            "64/64 [==============================] - 28s 436ms/step - loss: 3.8346e-04 - accuracy: 0.9999 - val_loss: 0.3604 - val_accuracy: 0.9445\n",
            "Epoch 73/100\n",
            "64/64 [==============================] - 26s 410ms/step - loss: 3.5277e-04 - accuracy: 0.9999 - val_loss: 0.3674 - val_accuracy: 0.9440\n",
            "Epoch 74/100\n",
            "64/64 [==============================] - 28s 434ms/step - loss: 3.2246e-04 - accuracy: 1.0000 - val_loss: 0.3687 - val_accuracy: 0.9444\n",
            "Epoch 75/100\n",
            "64/64 [==============================] - 26s 408ms/step - loss: 2.9853e-04 - accuracy: 1.0000 - val_loss: 0.3723 - val_accuracy: 0.9448\n",
            "Epoch 76/100\n",
            "64/64 [==============================] - 28s 438ms/step - loss: 2.7678e-04 - accuracy: 1.0000 - val_loss: 0.3744 - val_accuracy: 0.9445\n",
            "Epoch 77/100\n",
            "64/64 [==============================] - 26s 411ms/step - loss: 2.5944e-04 - accuracy: 1.0000 - val_loss: 0.3800 - val_accuracy: 0.9443\n",
            "Epoch 78/100\n",
            "64/64 [==============================] - 28s 435ms/step - loss: 2.4448e-04 - accuracy: 1.0000 - val_loss: 0.3821 - val_accuracy: 0.9444\n",
            "Epoch 79/100\n",
            "64/64 [==============================] - 26s 409ms/step - loss: 2.2958e-04 - accuracy: 1.0000 - val_loss: 0.3843 - val_accuracy: 0.9446\n",
            "Epoch 80/100\n",
            "64/64 [==============================] - 28s 436ms/step - loss: 2.1676e-04 - accuracy: 1.0000 - val_loss: 0.3885 - val_accuracy: 0.9443\n",
            "Epoch 81/100\n",
            "64/64 [==============================] - 28s 442ms/step - loss: 2.0618e-04 - accuracy: 1.0000 - val_loss: 0.3882 - val_accuracy: 0.9451\n",
            "Epoch 82/100\n",
            "64/64 [==============================] - 26s 407ms/step - loss: 1.9560e-04 - accuracy: 1.0000 - val_loss: 0.3923 - val_accuracy: 0.9448\n",
            "Epoch 83/100\n",
            "64/64 [==============================] - 26s 412ms/step - loss: 1.8623e-04 - accuracy: 1.0000 - val_loss: 0.3941 - val_accuracy: 0.9451\n",
            "Epoch 84/100\n",
            "64/64 [==============================] - 26s 410ms/step - loss: 1.7767e-04 - accuracy: 1.0000 - val_loss: 0.3961 - val_accuracy: 0.9450\n",
            "Epoch 85/100\n",
            "64/64 [==============================] - 28s 438ms/step - loss: 1.7003e-04 - accuracy: 1.0000 - val_loss: 0.3970 - val_accuracy: 0.9458\n",
            "Epoch 86/100\n",
            "64/64 [==============================] - 26s 411ms/step - loss: 1.6290e-04 - accuracy: 1.0000 - val_loss: 0.4008 - val_accuracy: 0.9454\n",
            "Epoch 87/100\n",
            "64/64 [==============================] - 28s 433ms/step - loss: 1.5612e-04 - accuracy: 1.0000 - val_loss: 0.4028 - val_accuracy: 0.9453\n",
            "Epoch 88/100\n",
            "64/64 [==============================] - 28s 434ms/step - loss: 1.5006e-04 - accuracy: 1.0000 - val_loss: 0.4035 - val_accuracy: 0.9457\n",
            "Epoch 89/100\n",
            "64/64 [==============================] - 26s 410ms/step - loss: 1.4403e-04 - accuracy: 1.0000 - val_loss: 0.4068 - val_accuracy: 0.9453\n",
            "Epoch 90/100\n",
            "64/64 [==============================] - 28s 436ms/step - loss: 1.3830e-04 - accuracy: 1.0000 - val_loss: 0.4088 - val_accuracy: 0.9454\n",
            "Epoch 91/100\n",
            "64/64 [==============================] - 27s 416ms/step - loss: 1.3311e-04 - accuracy: 1.0000 - val_loss: 0.4110 - val_accuracy: 0.9453\n",
            "Epoch 92/100\n",
            "64/64 [==============================] - 28s 435ms/step - loss: 1.2820e-04 - accuracy: 1.0000 - val_loss: 0.4132 - val_accuracy: 0.9454\n",
            "Epoch 93/100\n",
            "64/64 [==============================] - 28s 434ms/step - loss: 1.2344e-04 - accuracy: 1.0000 - val_loss: 0.4144 - val_accuracy: 0.9456\n",
            "Epoch 94/100\n",
            "64/64 [==============================] - 28s 434ms/step - loss: 1.1877e-04 - accuracy: 1.0000 - val_loss: 0.4167 - val_accuracy: 0.9456\n",
            "Epoch 95/100\n",
            "64/64 [==============================] - 26s 409ms/step - loss: 1.1454e-04 - accuracy: 1.0000 - val_loss: 0.4184 - val_accuracy: 0.9456\n",
            "Epoch 96/100\n",
            "64/64 [==============================] - 28s 431ms/step - loss: 1.1046e-04 - accuracy: 1.0000 - val_loss: 0.4193 - val_accuracy: 0.9459\n",
            "Epoch 97/100\n",
            "64/64 [==============================] - 26s 410ms/step - loss: 1.0653e-04 - accuracy: 1.0000 - val_loss: 0.4224 - val_accuracy: 0.9456\n",
            "Epoch 98/100\n",
            "64/64 [==============================] - 28s 434ms/step - loss: 1.0268e-04 - accuracy: 1.0000 - val_loss: 0.4241 - val_accuracy: 0.9455\n",
            "Epoch 99/100\n",
            "64/64 [==============================] - 26s 410ms/step - loss: 9.8949e-05 - accuracy: 1.0000 - val_loss: 0.4251 - val_accuracy: 0.9459\n",
            "Epoch 100/100\n",
            "64/64 [==============================] - 26s 409ms/step - loss: 9.5452e-05 - accuracy: 1.0000 - val_loss: 0.4265 - val_accuracy: 0.9459\n"
          ]
        },
        {
          "data": {
            "text/plain": [
              "<keras.callbacks.History at 0x7eae8a0f3250>"
            ]
          },
          "execution_count": 67,
          "metadata": {},
          "output_type": "execute_result"
        }
      ],
      "source": [
        "lstm_model.fit(X_train,Y_train,batch_size=batch_size,epochs=epoch_count,verbose=1,validation_split=test_prop,shuffle=1,use_multiprocessing=True)"
      ]
    },
    {
      "cell_type": "code",
      "execution_count": null,
      "metadata": {
        "colab": {
          "base_uri": "https://localhost:8080/"
        },
        "id": "7YGvPhYz3PrD",
        "outputId": "fd9b3e7b-9ca6-4caa-8fd2-6f3c76fb18ea"
      },
      "outputs": [
        {
          "name": "stdout",
          "output_type": "stream",
          "text": [
            "483/483 [==============================] - 12s 25ms/step\n"
          ]
        }
      ],
      "source": [
        "Y_pred=(lstm_model.predict(X_test)>=0.5).astype(int)"
      ]
    },
    {
      "cell_type": "code",
      "execution_count": null,
      "metadata": {
        "colab": {
          "base_uri": "https://localhost:8080/"
        },
        "id": "EXqn5Mww3bij",
        "outputId": "f506a1d7-a082-428b-e968-878259b0d76d"
      },
      "outputs": [
        {
          "data": {
            "text/plain": [
              "0.9437038954316035"
            ]
          },
          "execution_count": 69,
          "metadata": {},
          "output_type": "execute_result"
        }
      ],
      "source": [
        "accuracy_score(Y_test,Y_pred)"
      ]
    },
    {
      "cell_type": "code",
      "execution_count": null,
      "metadata": {
        "colab": {
          "base_uri": "https://localhost:8080/"
        },
        "id": "muWVKMp43c8k",
        "outputId": "379ab34e-9974-473f-872d-82a9084c7501"
      },
      "outputs": [
        {
          "name": "stdout",
          "output_type": "stream",
          "text": [
            "              precision    recall  f1-score   support\n",
            "\n",
            "           0       0.95      0.94      0.95      8159\n",
            "           1       0.94      0.95      0.94      7295\n",
            "\n",
            "    accuracy                           0.94     15454\n",
            "   macro avg       0.94      0.94      0.94     15454\n",
            "weighted avg       0.94      0.94      0.94     15454\n",
            "\n"
          ]
        }
      ],
      "source": [
        "print(classification_report(Y_test,Y_pred))"
      ]
    },
    {
      "cell_type": "code",
      "execution_count": null,
      "metadata": {
        "colab": {
          "base_uri": "https://localhost:8080/"
        },
        "id": "5WQDuweI4QIo",
        "outputId": "df023cf4-f561-4cc4-b1c0-9ed2c4018a26"
      },
      "outputs": [
        {
          "name": "stderr",
          "output_type": "stream",
          "text": [
            "WARNING:absl:Function `_wrapped_model` contains input name(s) Echo_input with unsupported characters which will be renamed to echo_input in the SavedModel.\n",
            "WARNING:absl:Found untraced functions such as lstm_cell_2_layer_call_fn, lstm_cell_2_layer_call_and_return_conditional_losses while saving (showing 2 of 2). These functions will not be directly callable after loading.\n"
          ]
        }
      ],
      "source": [
        "lstm_model.save('models/ds1-2_combined_epoch-100')"
      ]
    },
    {
      "cell_type": "code",
      "execution_count": 31,
      "metadata": {
        "id": "2SOUKLMqi5ri"
      },
      "outputs": [],
      "source": [
        "nmod=tf.keras.saving.load_model('models/ds1-2_combined_epoch-100_extensive')"
      ]
    },
    {
      "cell_type": "code",
      "execution_count": 32,
      "metadata": {
        "colab": {
          "base_uri": "https://localhost:8080/"
        },
        "id": "jz-4r7M8i-iK",
        "outputId": "3fb8abac-696e-495a-a759-7ccacd6b0c7a"
      },
      "outputs": [
        {
          "name": "stdout",
          "output_type": "stream",
          "text": [
            "483/483 [==============================] - 186s 384ms/step\n"
          ]
        }
      ],
      "source": [
        "y_pred = (nmod.predict(X_test) >=0.5).astype(int)"
      ]
    },
    {
      "cell_type": "code",
      "execution_count": 33,
      "metadata": {
        "colab": {
          "base_uri": "https://localhost:8080/"
        },
        "id": "mv-usLHJjCdy",
        "outputId": "a98ae249-06d9-47df-8c88-5b94f42f603b"
      },
      "outputs": [
        {
          "data": {
            "text/plain": [
              "0.9732108192053838"
            ]
          },
          "execution_count": 33,
          "metadata": {},
          "output_type": "execute_result"
        }
      ],
      "source": [
        "accuracy_score(Y_test,y_pred)"
      ]
    },
    {
      "cell_type": "code",
      "execution_count": 39,
      "metadata": {
        "id": "Nn8iZ8PAgaHk"
      },
      "outputs": [
        {
          "name": "stdout",
          "output_type": "stream",
          "text": [
            "              precision    recall  f1-score   support\n",
            "\n",
            "           0       0.97      0.97      0.97      8132\n",
            "           1       0.97      0.97      0.97      7322\n",
            "\n",
            "    accuracy                           0.97     15454\n",
            "   macro avg       0.97      0.97      0.97     15454\n",
            "weighted avg       0.97      0.97      0.97     15454\n",
            "\n"
          ]
        }
      ],
      "source": [
        "print(classification_report(Y_test,y_pred))"
      ]
    },
    {
      "cell_type": "code",
      "execution_count": 40,
      "metadata": {},
      "outputs": [
        {
          "data": {
            "text/html": [
              "<div>\n",
              "<style scoped>\n",
              "    .dataframe tbody tr th:only-of-type {\n",
              "        vertical-align: middle;\n",
              "    }\n",
              "\n",
              "    .dataframe tbody tr th {\n",
              "        vertical-align: top;\n",
              "    }\n",
              "\n",
              "    .dataframe thead th {\n",
              "        text-align: right;\n",
              "    }\n",
              "</style>\n",
              "<table border=\"1\" class=\"dataframe\">\n",
              "  <thead>\n",
              "    <tr style=\"text-align: right;\">\n",
              "      <th></th>\n",
              "      <th>text</th>\n",
              "      <th>identity</th>\n",
              "    </tr>\n",
              "  </thead>\n",
              "  <tbody>\n",
              "    <tr>\n",
              "      <th>22000</th>\n",
              "      <td>trumps dc hotel raised price and made million...</td>\n",
              "      <td>0</td>\n",
              "    </tr>\n",
              "    <tr>\n",
              "      <th>22001</th>\n",
              "      <td>trumps rhetoric just resulted in a trillion d...</td>\n",
              "      <td>0</td>\n",
              "    </tr>\n",
              "    <tr>\n",
              "      <th>22002</th>\n",
              "      <td>this old tweet from trump reveals the real re...</td>\n",
              "      <td>0</td>\n",
              "    </tr>\n",
              "    <tr>\n",
              "      <th>22003</th>\n",
              "      <td>trump is raising your healthcare premiums and...</td>\n",
              "      <td>0</td>\n",
              "    </tr>\n",
              "    <tr>\n",
              "      <th>22004</th>\n",
              "      <td>donald trump just announced another position ...</td>\n",
              "      <td>0</td>\n",
              "    </tr>\n",
              "    <tr>\n",
              "      <th>...</th>\n",
              "      <td>...</td>\n",
              "      <td>...</td>\n",
              "    </tr>\n",
              "    <tr>\n",
              "      <th>22995</th>\n",
              "      <td>watch teacher whitesplains his use of ner to ...</td>\n",
              "      <td>0</td>\n",
              "    </tr>\n",
              "    <tr>\n",
              "      <th>22996</th>\n",
              "      <td>trump accidentally says he wants single payer...</td>\n",
              "      <td>0</td>\n",
              "    </tr>\n",
              "    <tr>\n",
              "      <th>22997</th>\n",
              "      <td>trump nominee brags that taking away healthca...</td>\n",
              "      <td>0</td>\n",
              "    </tr>\n",
              "    <tr>\n",
              "      <th>22998</th>\n",
              "      <td>trump says hes going to save the country mone...</td>\n",
              "      <td>0</td>\n",
              "    </tr>\n",
              "    <tr>\n",
              "      <th>22999</th>\n",
              "      <td>fda department gets order from white house sa...</td>\n",
              "      <td>0</td>\n",
              "    </tr>\n",
              "  </tbody>\n",
              "</table>\n",
              "<p>1000 rows × 2 columns</p>\n",
              "</div>"
            ],
            "text/plain": [
              "                                                    text  identity\n",
              "22000   trumps dc hotel raised price and made million...         0\n",
              "22001   trumps rhetoric just resulted in a trillion d...         0\n",
              "22002   this old tweet from trump reveals the real re...         0\n",
              "22003   trump is raising your healthcare premiums and...         0\n",
              "22004   donald trump just announced another position ...         0\n",
              "...                                                  ...       ...\n",
              "22995   watch teacher whitesplains his use of ner to ...         0\n",
              "22996   trump accidentally says he wants single payer...         0\n",
              "22997   trump nominee brags that taking away healthca...         0\n",
              "22998   trump says hes going to save the country mone...         0\n",
              "22999   fda department gets order from white house sa...         0\n",
              "\n",
              "[1000 rows x 2 columns]"
            ]
          },
          "execution_count": 40,
          "metadata": {},
          "output_type": "execute_result"
        }
      ],
      "source": [
        "string_predict1=pd.DataFrame()\n",
        "string_predict1=data.iloc[22000:23000]\n",
        "string_predict1"
      ]
    },
    {
      "cell_type": "code",
      "execution_count": 43,
      "metadata": {},
      "outputs": [
        {
          "name": "stdout",
          "output_type": "stream",
          "text": [
            "32/32 [==============================] - 12s 379ms/step\n"
          ]
        }
      ],
      "source": [
        "X=tokenizer.texts_to_sequences(texts=string_predict1['text'])\n",
        "X=pad_sequences(sequences=X,maxlen=max_len,padding='pre')\n",
        "string_predict1_res=(nmod.predict(X)>=0.5).astype(int)"
      ]
    },
    {
      "cell_type": "code",
      "execution_count": 44,
      "metadata": {},
      "outputs": [
        {
          "data": {
            "text/plain": [
              "0.999"
            ]
          },
          "execution_count": 44,
          "metadata": {},
          "output_type": "execute_result"
        }
      ],
      "source": [
        "accuracy_score(string_predict1_res,string_predict1['identity'])"
      ]
    },
    {
      "cell_type": "code",
      "execution_count": 46,
      "metadata": {},
      "outputs": [
        {
          "data": {
            "text/html": [
              "<div>\n",
              "<style scoped>\n",
              "    .dataframe tbody tr th:only-of-type {\n",
              "        vertical-align: middle;\n",
              "    }\n",
              "\n",
              "    .dataframe tbody tr th {\n",
              "        vertical-align: top;\n",
              "    }\n",
              "\n",
              "    .dataframe thead th {\n",
              "        text-align: right;\n",
              "    }\n",
              "</style>\n",
              "<table border=\"1\" class=\"dataframe\">\n",
              "  <thead>\n",
              "    <tr style=\"text-align: right;\">\n",
              "      <th></th>\n",
              "      <th>text</th>\n",
              "      <th>identity</th>\n",
              "    </tr>\n",
              "  </thead>\n",
              "  <tbody>\n",
              "    <tr>\n",
              "      <th>0</th>\n",
              "      <td>as us budget fight looms republicans flip thei...</td>\n",
              "      <td>1</td>\n",
              "    </tr>\n",
              "    <tr>\n",
              "      <th>1</th>\n",
              "      <td>us military to accept transgender recruits on ...</td>\n",
              "      <td>1</td>\n",
              "    </tr>\n",
              "    <tr>\n",
              "      <th>2</th>\n",
              "      <td>senior us republican senator let mr mueller do...</td>\n",
              "      <td>1</td>\n",
              "    </tr>\n",
              "    <tr>\n",
              "      <th>3</th>\n",
              "      <td>fbi russia probe helped by australian diplomat...</td>\n",
              "      <td>1</td>\n",
              "    </tr>\n",
              "    <tr>\n",
              "      <th>4</th>\n",
              "      <td>trump wants postal service to charge much more...</td>\n",
              "      <td>1</td>\n",
              "    </tr>\n",
              "    <tr>\n",
              "      <th>...</th>\n",
              "      <td>...</td>\n",
              "      <td>...</td>\n",
              "    </tr>\n",
              "    <tr>\n",
              "      <th>995</th>\n",
              "      <td>house panels seek documents on puerto rico uti...</td>\n",
              "      <td>1</td>\n",
              "    </tr>\n",
              "    <tr>\n",
              "      <th>996</th>\n",
              "      <td>trump releases some jfk files blocks others un...</td>\n",
              "      <td>1</td>\n",
              "    </tr>\n",
              "    <tr>\n",
              "      <th>997</th>\n",
              "      <td>tillerson tells myanmar army chief us concerne...</td>\n",
              "      <td>1</td>\n",
              "    </tr>\n",
              "    <tr>\n",
              "      <th>998</th>\n",
              "      <td>exclusive while advising trump in 2016 excia c...</td>\n",
              "      <td>1</td>\n",
              "    </tr>\n",
              "    <tr>\n",
              "      <th>999</th>\n",
              "      <td>mattis visits seoul for defense talks as tensi...</td>\n",
              "      <td>1</td>\n",
              "    </tr>\n",
              "  </tbody>\n",
              "</table>\n",
              "<p>1000 rows × 2 columns</p>\n",
              "</div>"
            ],
            "text/plain": [
              "                                                  text  identity\n",
              "0    as us budget fight looms republicans flip thei...         1\n",
              "1    us military to accept transgender recruits on ...         1\n",
              "2    senior us republican senator let mr mueller do...         1\n",
              "3    fbi russia probe helped by australian diplomat...         1\n",
              "4    trump wants postal service to charge much more...         1\n",
              "..                                                 ...       ...\n",
              "995  house panels seek documents on puerto rico uti...         1\n",
              "996  trump releases some jfk files blocks others un...         1\n",
              "997  tillerson tells myanmar army chief us concerne...         1\n",
              "998  exclusive while advising trump in 2016 excia c...         1\n",
              "999  mattis visits seoul for defense talks as tensi...         1\n",
              "\n",
              "[1000 rows x 2 columns]"
            ]
          },
          "execution_count": 46,
          "metadata": {},
          "output_type": "execute_result"
        }
      ],
      "source": [
        "string_predict2=pd.DataFrame()\n",
        "string_predict2=data.iloc[0:1000]\n",
        "string_predict2\n"
      ]
    },
    {
      "cell_type": "code",
      "execution_count": 48,
      "metadata": {},
      "outputs": [
        {
          "name": "stdout",
          "output_type": "stream",
          "text": [
            "32/32 [==============================] - 12s 380ms/step\n"
          ]
        }
      ],
      "source": [
        "X=tokenizer.texts_to_sequences(texts=string_predict2['text'])\n",
        "X=pad_sequences(sequences=X,maxlen=max_len,padding='pre')\n",
        "string_predict2_res=(nmod.predict(X)>=0.5).astype(int)"
      ]
    },
    {
      "cell_type": "code",
      "execution_count": 49,
      "metadata": {},
      "outputs": [
        {
          "data": {
            "text/plain": [
              "0.989"
            ]
          },
          "execution_count": 49,
          "metadata": {},
          "output_type": "execute_result"
        }
      ],
      "source": [
        "accuracy_score(string_predict2_res,string_predict2['identity'])"
      ]
    }
  ],
  "metadata": {
    "accelerator": "GPU",
    "colab": {
      "gpuType": "T4",
      "provenance": []
    },
    "kernelspec": {
      "display_name": "Python 3",
      "name": "python3"
    },
    "language_info": {
      "codemirror_mode": {
        "name": "ipython",
        "version": 3
      },
      "file_extension": ".py",
      "mimetype": "text/x-python",
      "name": "python",
      "nbconvert_exporter": "python",
      "pygments_lexer": "ipython3",
      "version": "3.11.2"
    }
  },
  "nbformat": 4,
  "nbformat_minor": 0
}
