{
 "cells": [
  {
   "cell_type": "markdown",
   "metadata": {},
   "source": [
    "Importing primary dependencies for data fetch and cleaning"
   ]
  },
  {
   "cell_type": "code",
   "execution_count": 19,
   "metadata": {},
   "outputs": [],
   "source": [
    "import pandas as pd\n",
    "import numpy as np\n",
    "import tensorflow as tf\n",
    "import matplotlib.pyplot as plt\n",
    "import seaborn as sns\n",
    "import re\n",
    "\n",
    "from pandas import read_csv\n",
    "from gensim.parsing.preprocessing import remove_stopwords\n",
    "from keras.preprocessing.text import Tokenizer\n",
    "from keras.utils import pad_sequences\n",
    "from keras.models import Sequential\n",
    "from keras.layers import Dense,Embedding,LSTM\n",
    "from sklearn.model_selection import train_test_split\n",
    "from sklearn.metrics import classification_report,accuracy_score,confusion_matrix\n",
    "from sklearn.metrics import ConfusionMatrixDisplay\n",
    "\n",
    "tf.keras.utils.set_random_seed(135656)\n",
    "pd.options.mode.chained_assignment=None"
   ]
  },
  {
   "cell_type": "markdown",
   "metadata": {},
   "source": [
    "Various constants"
   ]
  },
  {
   "cell_type": "code",
   "execution_count": 44,
   "metadata": {},
   "outputs": [],
   "source": [
    "max_features=512\n",
    "max_len=2048\n",
    "test_prop=0.25\n",
    "epoch_count=4\n",
    "batch_size=16\n",
    "min_string_len=240"
   ]
  },
  {
   "cell_type": "code",
   "execution_count": 3,
   "metadata": {},
   "outputs": [],
   "source": [
    "#'Fake News' Community Prediction Competition on Kaggle\n",
    "#https://www.kaggle.com/c/fake-news/data\n",
    "\n",
    "data2=read_csv(\n",
    "    'https://raw.githubusercontent.com/MobiusYeeitus/FakeNewsDetection/main/datasets/set2/train.csv')"
   ]
  },
  {
   "cell_type": "code",
   "execution_count": 4,
   "metadata": {},
   "outputs": [
    {
     "data": {
      "text/html": [
       "<div>\n",
       "<style scoped>\n",
       "    .dataframe tbody tr th:only-of-type {\n",
       "        vertical-align: middle;\n",
       "    }\n",
       "\n",
       "    .dataframe tbody tr th {\n",
       "        vertical-align: top;\n",
       "    }\n",
       "\n",
       "    .dataframe thead th {\n",
       "        text-align: right;\n",
       "    }\n",
       "</style>\n",
       "<table border=\"1\" class=\"dataframe\">\n",
       "  <thead>\n",
       "    <tr style=\"text-align: right;\">\n",
       "      <th></th>\n",
       "      <th>id</th>\n",
       "      <th>title</th>\n",
       "      <th>author</th>\n",
       "      <th>text</th>\n",
       "      <th>label</th>\n",
       "    </tr>\n",
       "  </thead>\n",
       "  <tbody>\n",
       "    <tr>\n",
       "      <th>16512</th>\n",
       "      <td>16512</td>\n",
       "      <td>We are fake news…or are we?</td>\n",
       "      <td>Guest</td>\n",
       "      <td>In an elaborate game of double-bluff respectab...</td>\n",
       "      <td>1</td>\n",
       "    </tr>\n",
       "    <tr>\n",
       "      <th>11067</th>\n",
       "      <td>11067</td>\n",
       "      <td>Trump won because Democratic Party failed work...</td>\n",
       "      <td>Lauren McCauley</td>\n",
       "      <td>Trump won because Democratic Party failed work...</td>\n",
       "      <td>1</td>\n",
       "    </tr>\n",
       "    <tr>\n",
       "      <th>12776</th>\n",
       "      <td>12776</td>\n",
       "      <td>Wikileaks memo: Bill Clinton raked in tens of ...</td>\n",
       "      <td>admin</td>\n",
       "      <td>The latest hacked email released by WikiLeak...</td>\n",
       "      <td>1</td>\n",
       "    </tr>\n",
       "    <tr>\n",
       "      <th>1696</th>\n",
       "      <td>1696</td>\n",
       "      <td>Cuba vs. the US: Concessions or a New Missile ...</td>\n",
       "      <td>NaN</td>\n",
       "      <td>Germán Gorráiz López \\nAn end to the United St...</td>\n",
       "      <td>1</td>\n",
       "    </tr>\n",
       "  </tbody>\n",
       "</table>\n",
       "</div>"
      ],
      "text/plain": [
       "          id                                              title  \\\n",
       "16512  16512                        We are fake news…or are we?   \n",
       "11067  11067  Trump won because Democratic Party failed work...   \n",
       "12776  12776  Wikileaks memo: Bill Clinton raked in tens of ...   \n",
       "1696    1696  Cuba vs. the US: Concessions or a New Missile ...   \n",
       "\n",
       "                author                                               text  \\\n",
       "16512            Guest  In an elaborate game of double-bluff respectab...   \n",
       "11067  Lauren McCauley  Trump won because Democratic Party failed work...   \n",
       "12776            admin    The latest hacked email released by WikiLeak...   \n",
       "1696               NaN  Germán Gorráiz López \\nAn end to the United St...   \n",
       "\n",
       "       label  \n",
       "16512      1  \n",
       "11067      1  \n",
       "12776      1  \n",
       "1696       1  "
      ]
     },
     "execution_count": 4,
     "metadata": {},
     "output_type": "execute_result"
    }
   ],
   "source": [
    "data2.sample(4)"
   ]
  },
  {
   "cell_type": "markdown",
   "metadata": {},
   "source": [
    "Slicing Dataset 2"
   ]
  },
  {
   "cell_type": "code",
   "execution_count": 27,
   "metadata": {},
   "outputs": [
    {
     "data": {
      "text/html": [
       "<div>\n",
       "<style scoped>\n",
       "    .dataframe tbody tr th:only-of-type {\n",
       "        vertical-align: middle;\n",
       "    }\n",
       "\n",
       "    .dataframe tbody tr th {\n",
       "        vertical-align: top;\n",
       "    }\n",
       "\n",
       "    .dataframe thead th {\n",
       "        text-align: right;\n",
       "    }\n",
       "</style>\n",
       "<table border=\"1\" class=\"dataframe\">\n",
       "  <thead>\n",
       "    <tr style=\"text-align: right;\">\n",
       "      <th></th>\n",
       "      <th>id</th>\n",
       "      <th>title</th>\n",
       "      <th>author</th>\n",
       "      <th>text</th>\n",
       "      <th>label</th>\n",
       "    </tr>\n",
       "  </thead>\n",
       "  <tbody>\n",
       "    <tr>\n",
       "      <th>1000</th>\n",
       "      <td>1000</td>\n",
       "      <td>Breitbart News Daily: Gorsuch for SCOTUS - Bre...</td>\n",
       "      <td>Breitbart News</td>\n",
       "      <td>On the Wednesday edition of Breitbart News Dai...</td>\n",
       "      <td>0</td>\n",
       "    </tr>\n",
       "    <tr>\n",
       "      <th>1001</th>\n",
       "      <td>1001</td>\n",
       "      <td>Hillary To Be Arrested?</td>\n",
       "      <td>Mike Rivero</td>\n",
       "      <td>October 29, 2016 \\nWrites Graham Dugas: \\nCome...</td>\n",
       "      <td>1</td>\n",
       "    </tr>\n",
       "    <tr>\n",
       "      <th>1002</th>\n",
       "      <td>1002</td>\n",
       "      <td>Siri Can Open Smart Locks and Let Neighbors Wa...</td>\n",
       "      <td>IT Ninja</td>\n",
       "      <td>Apple HomeKit home security security smart house</td>\n",
       "      <td>1</td>\n",
       "    </tr>\n",
       "    <tr>\n",
       "      <th>1003</th>\n",
       "      <td>1003</td>\n",
       "      <td>Donald Trump, Michael Phelps, Zika: Your Tuesd...</td>\n",
       "      <td>Andrea Kannapell and Sandra Stevenson</td>\n",
       "      <td>(Want to get this briefing by email? Here’s th...</td>\n",
       "      <td>0</td>\n",
       "    </tr>\n",
       "    <tr>\n",
       "      <th>1004</th>\n",
       "      <td>1004</td>\n",
       "      <td>Obama Furious After Fed-Up ‘Deplorables’ Drop ...</td>\n",
       "      <td>Amanda Shea</td>\n",
       "      <td>Obama Furious After Fed-Up ‘Deplorables’ Drop ...</td>\n",
       "      <td>1</td>\n",
       "    </tr>\n",
       "    <tr>\n",
       "      <th>...</th>\n",
       "      <td>...</td>\n",
       "      <td>...</td>\n",
       "      <td>...</td>\n",
       "      <td>...</td>\n",
       "      <td>...</td>\n",
       "    </tr>\n",
       "    <tr>\n",
       "      <th>1995</th>\n",
       "      <td>1995</td>\n",
       "      <td>No, Hate Crimes Have NOT ‘Intensified’ Since T...</td>\n",
       "      <td>Guest Author</td>\n",
       "      <td>No, Hate Crimes Have NOT ‘Intensified’ Since...</td>\n",
       "      <td>1</td>\n",
       "    </tr>\n",
       "    <tr>\n",
       "      <th>1996</th>\n",
       "      <td>1996</td>\n",
       "      <td>Everything gentrification</td>\n",
       "      <td>NaN</td>\n",
       "      <td>07-11-16 EVERYTHING is now gentrification, inc...</td>\n",
       "      <td>1</td>\n",
       "    </tr>\n",
       "    <tr>\n",
       "      <th>1997</th>\n",
       "      <td>1997</td>\n",
       "      <td>Ubisoft Surprises with ’Mario’ Crossover Title...</td>\n",
       "      <td>Nate Church</td>\n",
       "      <td>Ubisoft’s E3 2017 press conference was an unev...</td>\n",
       "      <td>0</td>\n",
       "    </tr>\n",
       "    <tr>\n",
       "      <th>1998</th>\n",
       "      <td>1998</td>\n",
       "      <td>Turley: Trump Making Same Arguments as Obama i...</td>\n",
       "      <td>Jeff Poor</td>\n",
       "      <td>Thursday on MSNBC’s “The 11th Hour,” George Wa...</td>\n",
       "      <td>0</td>\n",
       "    </tr>\n",
       "    <tr>\n",
       "      <th>1999</th>\n",
       "      <td>1999</td>\n",
       "      <td>From Bad to Worse: Obama’s Ransom Payment to I...</td>\n",
       "      <td>Ari Lieberman</td>\n",
       "      <td>Search form Search From Bad to Worse : Obama’s...</td>\n",
       "      <td>1</td>\n",
       "    </tr>\n",
       "  </tbody>\n",
       "</table>\n",
       "<p>1000 rows × 5 columns</p>\n",
       "</div>"
      ],
      "text/plain": [
       "        id                                              title  \\\n",
       "1000  1000  Breitbart News Daily: Gorsuch for SCOTUS - Bre...   \n",
       "1001  1001                            Hillary To Be Arrested?   \n",
       "1002  1002  Siri Can Open Smart Locks and Let Neighbors Wa...   \n",
       "1003  1003  Donald Trump, Michael Phelps, Zika: Your Tuesd...   \n",
       "1004  1004  Obama Furious After Fed-Up ‘Deplorables’ Drop ...   \n",
       "...    ...                                                ...   \n",
       "1995  1995  No, Hate Crimes Have NOT ‘Intensified’ Since T...   \n",
       "1996  1996                          Everything gentrification   \n",
       "1997  1997  Ubisoft Surprises with ’Mario’ Crossover Title...   \n",
       "1998  1998  Turley: Trump Making Same Arguments as Obama i...   \n",
       "1999  1999  From Bad to Worse: Obama’s Ransom Payment to I...   \n",
       "\n",
       "                                     author  \\\n",
       "1000                         Breitbart News   \n",
       "1001                            Mike Rivero   \n",
       "1002                               IT Ninja   \n",
       "1003  Andrea Kannapell and Sandra Stevenson   \n",
       "1004                            Amanda Shea   \n",
       "...                                     ...   \n",
       "1995                           Guest Author   \n",
       "1996                                    NaN   \n",
       "1997                            Nate Church   \n",
       "1998                              Jeff Poor   \n",
       "1999                          Ari Lieberman   \n",
       "\n",
       "                                                   text  label  \n",
       "1000  On the Wednesday edition of Breitbart News Dai...      0  \n",
       "1001  October 29, 2016 \\nWrites Graham Dugas: \\nCome...      1  \n",
       "1002   Apple HomeKit home security security smart house      1  \n",
       "1003  (Want to get this briefing by email? Here’s th...      0  \n",
       "1004  Obama Furious After Fed-Up ‘Deplorables’ Drop ...      1  \n",
       "...                                                 ...    ...  \n",
       "1995    No, Hate Crimes Have NOT ‘Intensified’ Since...      1  \n",
       "1996  07-11-16 EVERYTHING is now gentrification, inc...      1  \n",
       "1997  Ubisoft’s E3 2017 press conference was an unev...      0  \n",
       "1998  Thursday on MSNBC’s “The 11th Hour,” George Wa...      0  \n",
       "1999  Search form Search From Bad to Worse : Obama’s...      1  \n",
       "\n",
       "[1000 rows x 5 columns]"
      ]
     },
     "execution_count": 27,
     "metadata": {},
     "output_type": "execute_result"
    }
   ],
   "source": [
    "data2_s=data2.iloc[1000:2000]\n",
    "data2_s"
   ]
  },
  {
   "cell_type": "markdown",
   "metadata": {},
   "source": [
    "Declaration *clean_csv* function"
   ]
  },
  {
   "cell_type": "code",
   "execution_count": 5,
   "metadata": {},
   "outputs": [],
   "source": [
    "def clean_string(string): #function to clean a string | to be used in clean_csv\n",
    "    string=string.lower() #convert string to lowercase\n",
    "    string=re.sub('\\n|\\r|\\t','',string) #cleaning of whitespaces\n",
    "    string=re.sub(r'[^\\w\\s]+','',string) #cleaning of symbols\n",
    "    return string"
   ]
  },
  {
   "cell_type": "code",
   "execution_count": 6,
   "metadata": {},
   "outputs": [],
   "source": [
    "def clean_csv_without_identity(df): #cleaning the CSV file\n",
    "    print('Cleaning CSV.')\n",
    "    df=df.dropna() #drop all tuples with empty attributes\n",
    "    length=[]\n",
    "    [length.append(len(str(text))) for text in df[\"text\"]] #calculate length of an article\n",
    "    df['length']=length #saves the length of the article in a new column\n",
    "    df=df.drop(df['text'][df['length']<min_string_len].index,axis=0) #drop all tuples with less than min_string_len letters\n",
    "    #df['text']=df['title']+\" \"+df['text'] #append text to title\n",
    "    vfunc=np.vectorize(clean_string) #vectorize the clean_string function for use in pandas df\n",
    "    df['text']=vfunc(df['text']) #apply the vectorized function to further clean the data\n",
    "    df.reset_index() #reset all indexes of the dataset\n",
    "    for x in range (len(df)):\n",
    "        df['text'].iloc[x]=remove_stopwords(df['text'].iloc[x]) #cleaning stopwords\n",
    "    df.rename(columns={'label':'identity'},inplace=True)\n",
    "    print('Cleaning completed.')\n",
    "    return df\n",
    "\n",
    "def optimized_cleaning_without_identity(df): #optimized for less than 16GiB RAM\n",
    "    print('Optimizing cleaning.')\n",
    "    df_temp1=df.iloc[:int(len(df)/2),:]\n",
    "    df_temp2=df.iloc[int(len(df)/2):,:]\n",
    "    df_temp1_c=clean_csv_without_identity(df_temp1)\n",
    "    df_temp2_c=clean_csv_without_identity(df_temp2)\n",
    "    df_temp=pd.concat([df_temp1_c,df_temp2_c],ignore_index=True)\n",
    "    return df_temp"
   ]
  },
  {
   "cell_type": "markdown",
   "metadata": {},
   "source": [
    "Splitting up the datasets to conserve RAM, and avoid crashes during cleaning by using the optimized functions"
   ]
  },
  {
   "cell_type": "code",
   "execution_count": 28,
   "metadata": {},
   "outputs": [
    {
     "name": "stdout",
     "output_type": "stream",
     "text": [
      "Optimizing cleaning.\n",
      "Cleaning CSV.\n",
      "Cleaning completed.\n",
      "Cleaning CSV.\n",
      "Cleaning completed.\n"
     ]
    }
   ],
   "source": [
    "data2_c=optimized_cleaning_without_identity(data2_s)"
   ]
  },
  {
   "cell_type": "markdown",
   "metadata": {},
   "source": [
    "Before cleaning,"
   ]
  },
  {
   "cell_type": "code",
   "execution_count": 29,
   "metadata": {},
   "outputs": [
    {
     "data": {
      "text/html": [
       "<div>\n",
       "<style scoped>\n",
       "    .dataframe tbody tr th:only-of-type {\n",
       "        vertical-align: middle;\n",
       "    }\n",
       "\n",
       "    .dataframe tbody tr th {\n",
       "        vertical-align: top;\n",
       "    }\n",
       "\n",
       "    .dataframe thead th {\n",
       "        text-align: right;\n",
       "    }\n",
       "</style>\n",
       "<table border=\"1\" class=\"dataframe\">\n",
       "  <thead>\n",
       "    <tr style=\"text-align: right;\">\n",
       "      <th></th>\n",
       "      <th>id</th>\n",
       "      <th>title</th>\n",
       "      <th>author</th>\n",
       "      <th>text</th>\n",
       "      <th>label</th>\n",
       "    </tr>\n",
       "  </thead>\n",
       "  <tbody>\n",
       "    <tr>\n",
       "      <th>20798</th>\n",
       "      <td>20798</td>\n",
       "      <td>NATO, Russia To Hold Parallel Exercises In Bal...</td>\n",
       "      <td>Alex Ansary</td>\n",
       "      <td>NATO, Russia To Hold Parallel Exercises In Bal...</td>\n",
       "      <td>1</td>\n",
       "    </tr>\n",
       "    <tr>\n",
       "      <th>20799</th>\n",
       "      <td>20799</td>\n",
       "      <td>What Keeps the F-35 Alive</td>\n",
       "      <td>David Swanson</td>\n",
       "      <td>David Swanson is an author, activist, journa...</td>\n",
       "      <td>1</td>\n",
       "    </tr>\n",
       "  </tbody>\n",
       "</table>\n",
       "</div>"
      ],
      "text/plain": [
       "          id                                              title  \\\n",
       "20798  20798  NATO, Russia To Hold Parallel Exercises In Bal...   \n",
       "20799  20799                          What Keeps the F-35 Alive   \n",
       "\n",
       "              author                                               text  label  \n",
       "20798    Alex Ansary  NATO, Russia To Hold Parallel Exercises In Bal...      1  \n",
       "20799  David Swanson    David Swanson is an author, activist, journa...      1  "
      ]
     },
     "execution_count": 29,
     "metadata": {},
     "output_type": "execute_result"
    }
   ],
   "source": [
    "data2.tail(2)"
   ]
  },
  {
   "cell_type": "markdown",
   "metadata": {},
   "source": [
    "After cleaning,"
   ]
  },
  {
   "cell_type": "code",
   "execution_count": 30,
   "metadata": {},
   "outputs": [
    {
     "data": {
      "text/html": [
       "<div>\n",
       "<style scoped>\n",
       "    .dataframe tbody tr th:only-of-type {\n",
       "        vertical-align: middle;\n",
       "    }\n",
       "\n",
       "    .dataframe tbody tr th {\n",
       "        vertical-align: top;\n",
       "    }\n",
       "\n",
       "    .dataframe thead th {\n",
       "        text-align: right;\n",
       "    }\n",
       "</style>\n",
       "<table border=\"1\" class=\"dataframe\">\n",
       "  <thead>\n",
       "    <tr style=\"text-align: right;\">\n",
       "      <th></th>\n",
       "      <th>id</th>\n",
       "      <th>title</th>\n",
       "      <th>author</th>\n",
       "      <th>text</th>\n",
       "      <th>identity</th>\n",
       "      <th>length</th>\n",
       "    </tr>\n",
       "  </thead>\n",
       "  <tbody>\n",
       "    <tr>\n",
       "      <th>843</th>\n",
       "      <td>1998</td>\n",
       "      <td>Turley: Trump Making Same Arguments as Obama i...</td>\n",
       "      <td>Jeff Poor</td>\n",
       "      <td>thursday msnbcs 11th hour george washington un...</td>\n",
       "      <td>0</td>\n",
       "      <td>1515</td>\n",
       "    </tr>\n",
       "    <tr>\n",
       "      <th>844</th>\n",
       "      <td>1999</td>\n",
       "      <td>From Bad to Worse: Obama’s Ransom Payment to I...</td>\n",
       "      <td>Ari Lieberman</td>\n",
       "      <td>search form search bad worse obamas ransom pay...</td>\n",
       "      <td>1</td>\n",
       "      <td>7216</td>\n",
       "    </tr>\n",
       "  </tbody>\n",
       "</table>\n",
       "</div>"
      ],
      "text/plain": [
       "       id                                              title         author  \\\n",
       "843  1998  Turley: Trump Making Same Arguments as Obama i...      Jeff Poor   \n",
       "844  1999  From Bad to Worse: Obama’s Ransom Payment to I...  Ari Lieberman   \n",
       "\n",
       "                                                  text  identity  length  \n",
       "843  thursday msnbcs 11th hour george washington un...         0    1515  \n",
       "844  search form search bad worse obamas ransom pay...         1    7216  "
      ]
     },
     "execution_count": 30,
     "metadata": {},
     "output_type": "execute_result"
    }
   ],
   "source": [
    "data2_c.tail(2)"
   ]
  },
  {
   "cell_type": "markdown",
   "metadata": {},
   "source": [
    "Dropping all unnecessary columns"
   ]
  },
  {
   "cell_type": "code",
   "execution_count": 31,
   "metadata": {},
   "outputs": [],
   "source": [
    "data2_c=data2_c[['text','identity']]"
   ]
  },
  {
   "cell_type": "code",
   "execution_count": 32,
   "metadata": {},
   "outputs": [],
   "source": [
    "data_c=pd.concat([data2_c],ignore_index=True)"
   ]
  },
  {
   "cell_type": "code",
   "execution_count": 33,
   "metadata": {},
   "outputs": [
    {
     "data": {
      "text/html": [
       "<div>\n",
       "<style scoped>\n",
       "    .dataframe tbody tr th:only-of-type {\n",
       "        vertical-align: middle;\n",
       "    }\n",
       "\n",
       "    .dataframe tbody tr th {\n",
       "        vertical-align: top;\n",
       "    }\n",
       "\n",
       "    .dataframe thead th {\n",
       "        text-align: right;\n",
       "    }\n",
       "</style>\n",
       "<table border=\"1\" class=\"dataframe\">\n",
       "  <thead>\n",
       "    <tr style=\"text-align: right;\">\n",
       "      <th></th>\n",
       "      <th>text</th>\n",
       "      <th>identity</th>\n",
       "    </tr>\n",
       "  </thead>\n",
       "  <tbody>\n",
       "    <tr>\n",
       "      <th>841</th>\n",
       "      <td>hate crimes intensified trumps election hate c...</td>\n",
       "      <td>1</td>\n",
       "    </tr>\n",
       "    <tr>\n",
       "      <th>842</th>\n",
       "      <td>ubisofts e3 2017 press conference uneven showi...</td>\n",
       "      <td>0</td>\n",
       "    </tr>\n",
       "    <tr>\n",
       "      <th>843</th>\n",
       "      <td>thursday msnbcs 11th hour george washington un...</td>\n",
       "      <td>0</td>\n",
       "    </tr>\n",
       "    <tr>\n",
       "      <th>844</th>\n",
       "      <td>search form search bad worse obamas ransom pay...</td>\n",
       "      <td>1</td>\n",
       "    </tr>\n",
       "  </tbody>\n",
       "</table>\n",
       "</div>"
      ],
      "text/plain": [
       "                                                  text  identity\n",
       "841  hate crimes intensified trumps election hate c...         1\n",
       "842  ubisofts e3 2017 press conference uneven showi...         0\n",
       "843  thursday msnbcs 11th hour george washington un...         0\n",
       "844  search form search bad worse obamas ransom pay...         1"
      ]
     },
     "execution_count": 33,
     "metadata": {},
     "output_type": "execute_result"
    }
   ],
   "source": [
    "data_c=data_c[['text','identity']]\n",
    "data_c.reset_index()\n",
    "data_c.tail(4)"
   ]
  },
  {
   "cell_type": "markdown",
   "metadata": {},
   "source": [
    "Visual representation"
   ]
  },
  {
   "cell_type": "code",
   "execution_count": 34,
   "metadata": {},
   "outputs": [
    {
     "data": {
      "image/png": "[encoded data removed]",
      "text/plain": [
       "<Figure size 1500x600 with 2 Axes>"
      ]
     },
     "metadata": {},
     "output_type": "display_data"
    }
   ],
   "source": [
    "fig, (ax1,ax2) = plt.subplots(1,2,figsize=(15,6))\n",
    "data_c['identity'].value_counts().plot.pie(explode=[0,0.1],colors=sns.color_palette(\"RdYlBu\"),autopct='%1.1f%%',ax=ax1)\n",
    "ax1.set_title('Percentage of identity')\n",
    "sns.countplot(x='identity',data=data_c,ax=ax2,palette='RdYlBu')\n",
    "ax2.set_title('Distribution of identity')\n",
    "plt.show()"
   ]
  },
  {
   "cell_type": "markdown",
   "metadata": {},
   "source": [
    "*Tokenizing* the dataset for use in the ANN (One_Hot Representation)"
   ]
  },
  {
   "cell_type": "code",
   "execution_count": 45,
   "metadata": {},
   "outputs": [
    {
     "name": "stdout",
     "output_type": "stream",
     "text": [
      "Tokenizing DF.\n",
      "Tokenized DF.\n"
     ]
    }
   ],
   "source": [
    "print('Tokenizing DF.')\n",
    "tokenizer=Tokenizer(num_words=max_features,filters='!\"#$%&()*+,-./:;<=>?@[\\\\]^_`{|}~\\t\\n',split =' ') #filters is redundant, but still keeping if I missed any symbols previously\n",
    "tokenizer.fit_on_texts(texts=data_c['text']) #fit\n",
    "X=tokenizer.texts_to_sequences(texts=data_c['text'])\n",
    "X=pad_sequences(sequences=X,maxlen=max_len,padding='pre') #padding the set of words\n",
    "Y=data_c['identity'].values #identities (0/1)\n",
    "V=tokenizer.word_index #vocabulary\n",
    "print('Tokenized DF.')"
   ]
  },
  {
   "cell_type": "markdown",
   "metadata": {},
   "source": [
    "Creating the model and compiling it"
   ]
  },
  {
   "cell_type": "code",
   "execution_count": 46,
   "metadata": {},
   "outputs": [],
   "source": [
    "def create_lstm_model(max_features): #creating the internal structure of the simple LSTM model\n",
    "        print('Creating LSTM model.')\n",
    "        lstm_model=Sequential(name='Sierra')\n",
    "        lstm_model.add(layer=Embedding(input_dim=max_features,output_dim=128,name='Echo'))\n",
    "        lstm_model.add(layer=LSTM(units=128,name='Lima'))\n",
    "        lstm_model.add(layer=Dense(1,activation='sigmoid',name ='Omega'))\n",
    "        print('Model creation completed.')\n",
    "        lstm_model.compile(optimizer='adam',loss='binary_crossentropy',metrics=['accuracy'])\n",
    "        print('Model compiled.')\n",
    "        return lstm_model"
   ]
  },
  {
   "cell_type": "code",
   "execution_count": 47,
   "metadata": {},
   "outputs": [
    {
     "name": "stdout",
     "output_type": "stream",
     "text": [
      "Creating LSTM model.\n",
      "Model creation completed.\n",
      "Model compiled.\n"
     ]
    }
   ],
   "source": [
    "lstm_model=create_lstm_model(max_features)"
   ]
  },
  {
   "cell_type": "markdown",
   "metadata": {},
   "source": [
    "Summary of the model"
   ]
  },
  {
   "cell_type": "code",
   "execution_count": 48,
   "metadata": {},
   "outputs": [
    {
     "name": "stdout",
     "output_type": "stream",
     "text": [
      "Model: \"Sierra\"\n",
      "_________________________________________________________________\n",
      " Layer (type)                Output Shape              Param #   \n",
      "=================================================================\n",
      " Echo (Embedding)            (None, None, 128)         65536     \n",
      "                                                                 \n",
      " Lima (LSTM)                 (None, 128)               131584    \n",
      "                                                                 \n",
      " Omega (Dense)               (None, 1)                 129       \n",
      "                                                                 \n",
      "=================================================================\n",
      "Total params: 197,249\n",
      "Trainable params: 197,249\n",
      "Non-trainable params: 0\n",
      "_________________________________________________________________\n"
     ]
    }
   ],
   "source": [
    "lstm_model.summary()"
   ]
  },
  {
   "cell_type": "markdown",
   "metadata": {},
   "source": [
    "Splitting the tokenized DF based on *test_prop*"
   ]
  },
  {
   "cell_type": "code",
   "execution_count": 49,
   "metadata": {},
   "outputs": [],
   "source": [
    "X_train,X_test,Y_train,Y_test=train_test_split(X,Y,test_size=test_prop)"
   ]
  },
  {
   "cell_type": "markdown",
   "metadata": {},
   "source": [
    "Training the LSTM model"
   ]
  },
  {
   "cell_type": "code",
   "execution_count": 50,
   "metadata": {},
   "outputs": [
    {
     "name": "stdout",
     "output_type": "stream",
     "text": [
      "Epoch 1/4\n",
      "30/30 [==============================] - 35s 1s/step - loss: 0.6501 - accuracy: 0.6646 - val_loss: 0.5907 - val_accuracy: 0.8742\n",
      "Epoch 2/4\n",
      "30/30 [==============================] - 31s 1s/step - loss: 0.3435 - accuracy: 0.9156 - val_loss: 0.2461 - val_accuracy: 0.8931\n",
      "Epoch 3/4\n",
      "30/30 [==============================] - 32s 1s/step - loss: 0.1615 - accuracy: 0.9494 - val_loss: 0.2597 - val_accuracy: 0.8931\n",
      "Epoch 4/4\n",
      "30/30 [==============================] - 32s 1s/step - loss: 0.1190 - accuracy: 0.9684 - val_loss: 0.3360 - val_accuracy: 0.8868\n"
     ]
    }
   ],
   "source": [
    "history=lstm_model.fit(X_train,Y_train,batch_size=batch_size,epochs=epoch_count,verbose=1,validation_split=test_prop,shuffle=1,use_multiprocessing=True)\n"
   ]
  },
  {
   "cell_type": "markdown",
   "metadata": {},
   "source": []
  },
  {
   "cell_type": "markdown",
   "metadata": {},
   "source": [
    "Visualization of accuracy and loss using graph"
   ]
  },
  {
   "cell_type": "code",
   "execution_count": 51,
   "metadata": {},
   "outputs": [
    {
     "data": {
      "image/png": "[encoded data removed]",
      "text/plain": [
       "<Figure size 640x480 with 1 Axes>"
      ]
     },
     "metadata": {},
     "output_type": "display_data"
    }
   ],
   "source": [
    "plt.plot(history.history['accuracy'])\n",
    "plt.plot(history.history['val_accuracy'])\n",
    "plt.title('Model Accuracy')\n",
    "plt.ylabel('Accuracy')\n",
    "plt.xlabel('Epoch')\n",
    "plt.legend(['Train', 'Val'], loc='upper left')\n",
    "plt.show()"
   ]
  },
  {
   "cell_type": "code",
   "execution_count": 52,
   "metadata": {},
   "outputs": [
    {
     "data": {
      "image/png": "[encoded data removed]",
      "text/plain": [
       "<Figure size 640x480 with 1 Axes>"
      ]
     },
     "metadata": {},
     "output_type": "display_data"
    }
   ],
   "source": [
    "plt.plot(history.history['loss'])\n",
    "plt.plot(history.history['val_loss'])\n",
    "plt.title('Model Loss')\n",
    "plt.ylabel('Loss')\n",
    "plt.xlabel('Epoch')\n",
    "plt.legend(['Train', 'Val'], loc='upper left')\n",
    "plt.show()"
   ]
  },
  {
   "cell_type": "markdown",
   "metadata": {},
   "source": [
    "Validation of the model"
   ]
  },
  {
   "cell_type": "code",
   "execution_count": 53,
   "metadata": {},
   "outputs": [
    {
     "name": "stdout",
     "output_type": "stream",
     "text": [
      "14/14 [==============================] - 4s 295ms/step\n"
     ]
    }
   ],
   "source": [
    "Y_pred=(lstm_model.predict(X_test,batch_size=batch_size,verbose=1,use_multiprocessing=True)>=0.5).astype(int)"
   ]
  },
  {
   "cell_type": "code",
   "execution_count": 54,
   "metadata": {},
   "outputs": [
    {
     "data": {
      "text/plain": [
       "0.839622641509434"
      ]
     },
     "execution_count": 54,
     "metadata": {},
     "output_type": "execute_result"
    }
   ],
   "source": [
    "accuracy_score(Y_test,Y_pred)"
   ]
  },
  {
   "cell_type": "code",
   "execution_count": 55,
   "metadata": {},
   "outputs": [
    {
     "name": "stdout",
     "output_type": "stream",
     "text": [
      "              precision    recall  f1-score   support\n",
      "\n",
      "           0       0.88      0.82      0.85       120\n",
      "           1       0.79      0.86      0.82        92\n",
      "\n",
      "    accuracy                           0.84       212\n",
      "   macro avg       0.84      0.84      0.84       212\n",
      "weighted avg       0.84      0.84      0.84       212\n",
      "\n"
     ]
    }
   ],
   "source": [
    "print(classification_report(Y_test,Y_pred))"
   ]
  },
  {
   "cell_type": "code",
   "execution_count": 56,
   "metadata": {},
   "outputs": [
    {
     "name": "stderr",
     "output_type": "stream",
     "text": [
      "WARNING:absl:Function `_wrapped_model` contains input name(s) Echo_input with unsupported characters which will be renamed to echo_input in the SavedModel.\n",
      "WARNING:absl:Found untraced functions such as _update_step_xla, lstm_cell_3_layer_call_fn, lstm_cell_3_layer_call_and_return_conditional_losses while saving (showing 3 of 3). These functions will not be directly callable after loading.\n"
     ]
    },
    {
     "name": "stdout",
     "output_type": "stream",
     "text": [
      "INFO:tensorflow:Assets written to: models/ds2-short\\assets\n"
     ]
    },
    {
     "name": "stderr",
     "output_type": "stream",
     "text": [
      "INFO:tensorflow:Assets written to: models/ds2-short\\assets\n"
     ]
    }
   ],
   "source": [
    "lstm_model.save('models/ds2-short')"
   ]
  },
  {
   "cell_type": "markdown",
   "metadata": {},
   "source": [
    "Using *ConfusionMatrixDisplay* function to visualize the confusion matrix"
   ]
  },
  {
   "cell_type": "code",
   "execution_count": 58,
   "metadata": {},
   "outputs": [
    {
     "data": {
      "text/plain": [
       "<sklearn.metrics._plot.confusion_matrix.ConfusionMatrixDisplay at 0x2ae120922d0>"
      ]
     },
     "execution_count": 58,
     "metadata": {},
     "output_type": "execute_result"
    },
    {
     "data": {
      "image/png": "[encoded data removed]",
      "text/plain": [
       "<Figure size 640x480 with 2 Axes>"
      ]
     },
     "metadata": {},
     "output_type": "display_data"
    }
   ],
   "source": [
    "cm_y_pred=confusion_matrix(Y_test,Y_pred)\n",
    "disp=ConfusionMatrixDisplay(cm_y_pred)\n",
    "disp.plot()"
   ]
  },
  {
   "cell_type": "code",
   "execution_count": null,
   "metadata": {},
   "outputs": [],
   "source": []
  }
 ],
 "metadata": {
  "kernelspec": {
   "display_name": "Python 3",
   "language": "python",
   "name": "python3"
  },
  "language_info": {
   "codemirror_mode": {
    "name": "ipython",
    "version": 3
   },
   "file_extension": ".py",
   "mimetype": "text/x-python",
   "name": "python",
   "nbconvert_exporter": "python",
   "pygments_lexer": "ipython3",
   "version": "3.11.2"
  },
  "orig_nbformat": 4
 },
 "nbformat": 4,
 "nbformat_minor": 2
}
